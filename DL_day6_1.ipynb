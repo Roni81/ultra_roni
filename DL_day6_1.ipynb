{
 "cells": [
  {
   "cell_type": "code",
   "execution_count": 3,
   "id": "48af39b7",
   "metadata": {},
   "outputs": [],
   "source": [
    "import pandas as pd\n",
    "import numpy as np\n",
    "import matplotlib.pyplot as plt\n",
    "import seaborn as sns"
   ]
  },
  {
   "cell_type": "code",
   "execution_count": 4,
   "id": "d28cc29f",
   "metadata": {},
   "outputs": [],
   "source": [
    "#pip install finance-datareader"
   ]
  },
  {
   "cell_type": "code",
   "execution_count": 5,
   "id": "6bc91e98",
   "metadata": {},
   "outputs": [],
   "source": [
    "import FinanceDataReader as fdr"
   ]
  },
  {
   "cell_type": "code",
   "execution_count": 6,
   "id": "21340e2d",
   "metadata": {},
   "outputs": [],
   "source": [
    "kakao=fdr.DataReader('035720') #Kakao"
   ]
  },
  {
   "cell_type": "code",
   "execution_count": 7,
   "id": "182017f0",
   "metadata": {},
   "outputs": [
    {
     "data": {
      "text/html": [
       "<div>\n",
       "<style scoped>\n",
       "    .dataframe tbody tr th:only-of-type {\n",
       "        vertical-align: middle;\n",
       "    }\n",
       "\n",
       "    .dataframe tbody tr th {\n",
       "        vertical-align: top;\n",
       "    }\n",
       "\n",
       "    .dataframe thead th {\n",
       "        text-align: right;\n",
       "    }\n",
       "</style>\n",
       "<table border=\"1\" class=\"dataframe\">\n",
       "  <thead>\n",
       "    <tr style=\"text-align: right;\">\n",
       "      <th></th>\n",
       "      <th>Open</th>\n",
       "      <th>High</th>\n",
       "      <th>Low</th>\n",
       "      <th>Close</th>\n",
       "      <th>Volume</th>\n",
       "      <th>Change</th>\n",
       "    </tr>\n",
       "    <tr>\n",
       "      <th>Date</th>\n",
       "      <th></th>\n",
       "      <th></th>\n",
       "      <th></th>\n",
       "      <th></th>\n",
       "      <th></th>\n",
       "      <th></th>\n",
       "    </tr>\n",
       "  </thead>\n",
       "  <tbody>\n",
       "    <tr>\n",
       "      <th>1999-11-11</th>\n",
       "      <td>999</td>\n",
       "      <td>999</td>\n",
       "      <td>999</td>\n",
       "      <td>999</td>\n",
       "      <td>12</td>\n",
       "      <td>NaN</td>\n",
       "    </tr>\n",
       "    <tr>\n",
       "      <th>1999-11-12</th>\n",
       "      <td>1115</td>\n",
       "      <td>1115</td>\n",
       "      <td>1115</td>\n",
       "      <td>1115</td>\n",
       "      <td>140</td>\n",
       "      <td>0.116116</td>\n",
       "    </tr>\n",
       "    <tr>\n",
       "      <th>1999-11-15</th>\n",
       "      <td>1249</td>\n",
       "      <td>1249</td>\n",
       "      <td>1249</td>\n",
       "      <td>1249</td>\n",
       "      <td>405</td>\n",
       "      <td>0.120179</td>\n",
       "    </tr>\n",
       "    <tr>\n",
       "      <th>1999-11-16</th>\n",
       "      <td>1396</td>\n",
       "      <td>1396</td>\n",
       "      <td>1396</td>\n",
       "      <td>1396</td>\n",
       "      <td>214</td>\n",
       "      <td>0.117694</td>\n",
       "    </tr>\n",
       "    <tr>\n",
       "      <th>1999-11-17</th>\n",
       "      <td>1561</td>\n",
       "      <td>1561</td>\n",
       "      <td>1561</td>\n",
       "      <td>1561</td>\n",
       "      <td>191</td>\n",
       "      <td>0.118195</td>\n",
       "    </tr>\n",
       "    <tr>\n",
       "      <th>...</th>\n",
       "      <td>...</td>\n",
       "      <td>...</td>\n",
       "      <td>...</td>\n",
       "      <td>...</td>\n",
       "      <td>...</td>\n",
       "      <td>...</td>\n",
       "    </tr>\n",
       "    <tr>\n",
       "      <th>2023-11-01</th>\n",
       "      <td>38000</td>\n",
       "      <td>38300</td>\n",
       "      <td>37450</td>\n",
       "      <td>37600</td>\n",
       "      <td>1272093</td>\n",
       "      <td>-0.005291</td>\n",
       "    </tr>\n",
       "    <tr>\n",
       "      <th>2023-11-02</th>\n",
       "      <td>38000</td>\n",
       "      <td>38600</td>\n",
       "      <td>37900</td>\n",
       "      <td>38550</td>\n",
       "      <td>1529650</td>\n",
       "      <td>0.025266</td>\n",
       "    </tr>\n",
       "    <tr>\n",
       "      <th>2023-11-03</th>\n",
       "      <td>39250</td>\n",
       "      <td>41550</td>\n",
       "      <td>38900</td>\n",
       "      <td>41300</td>\n",
       "      <td>3675484</td>\n",
       "      <td>0.071336</td>\n",
       "    </tr>\n",
       "    <tr>\n",
       "      <th>2023-11-06</th>\n",
       "      <td>43000</td>\n",
       "      <td>44700</td>\n",
       "      <td>42300</td>\n",
       "      <td>44700</td>\n",
       "      <td>4871031</td>\n",
       "      <td>0.082324</td>\n",
       "    </tr>\n",
       "    <tr>\n",
       "      <th>2023-11-07</th>\n",
       "      <td>44700</td>\n",
       "      <td>44750</td>\n",
       "      <td>42850</td>\n",
       "      <td>43750</td>\n",
       "      <td>2019068</td>\n",
       "      <td>-0.021253</td>\n",
       "    </tr>\n",
       "  </tbody>\n",
       "</table>\n",
       "<p>5921 rows × 6 columns</p>\n",
       "</div>"
      ],
      "text/plain": [
       "             Open   High    Low  Close   Volume    Change\n",
       "Date                                                     \n",
       "1999-11-11    999    999    999    999       12       NaN\n",
       "1999-11-12   1115   1115   1115   1115      140  0.116116\n",
       "1999-11-15   1249   1249   1249   1249      405  0.120179\n",
       "1999-11-16   1396   1396   1396   1396      214  0.117694\n",
       "1999-11-17   1561   1561   1561   1561      191  0.118195\n",
       "...           ...    ...    ...    ...      ...       ...\n",
       "2023-11-01  38000  38300  37450  37600  1272093 -0.005291\n",
       "2023-11-02  38000  38600  37900  38550  1529650  0.025266\n",
       "2023-11-03  39250  41550  38900  41300  3675484  0.071336\n",
       "2023-11-06  43000  44700  42300  44700  4871031  0.082324\n",
       "2023-11-07  44700  44750  42850  43750  2019068 -0.021253\n",
       "\n",
       "[5921 rows x 6 columns]"
      ]
     },
     "execution_count": 7,
     "metadata": {},
     "output_type": "execute_result"
    }
   ],
   "source": [
    "kakao"
   ]
  },
  {
   "cell_type": "code",
   "execution_count": 8,
   "id": "28ce307b",
   "metadata": {},
   "outputs": [
    {
     "data": {
      "text/html": [
       "<div>\n",
       "<style scoped>\n",
       "    .dataframe tbody tr th:only-of-type {\n",
       "        vertical-align: middle;\n",
       "    }\n",
       "\n",
       "    .dataframe tbody tr th {\n",
       "        vertical-align: top;\n",
       "    }\n",
       "\n",
       "    .dataframe thead th {\n",
       "        text-align: right;\n",
       "    }\n",
       "</style>\n",
       "<table border=\"1\" class=\"dataframe\">\n",
       "  <thead>\n",
       "    <tr style=\"text-align: right;\">\n",
       "      <th></th>\n",
       "      <th>Open</th>\n",
       "      <th>High</th>\n",
       "      <th>Low</th>\n",
       "      <th>Close</th>\n",
       "      <th>Adj Close</th>\n",
       "      <th>Volume</th>\n",
       "    </tr>\n",
       "    <tr>\n",
       "      <th>Date</th>\n",
       "      <th></th>\n",
       "      <th></th>\n",
       "      <th></th>\n",
       "      <th></th>\n",
       "      <th></th>\n",
       "      <th></th>\n",
       "    </tr>\n",
       "  </thead>\n",
       "  <tbody>\n",
       "    <tr>\n",
       "      <th>1981-01-02</th>\n",
       "      <td>0.154018</td>\n",
       "      <td>0.155134</td>\n",
       "      <td>0.154018</td>\n",
       "      <td>0.154018</td>\n",
       "      <td>0.119340</td>\n",
       "      <td>21660800</td>\n",
       "    </tr>\n",
       "    <tr>\n",
       "      <th>1981-01-05</th>\n",
       "      <td>0.151228</td>\n",
       "      <td>0.151228</td>\n",
       "      <td>0.150670</td>\n",
       "      <td>0.150670</td>\n",
       "      <td>0.116746</td>\n",
       "      <td>35728000</td>\n",
       "    </tr>\n",
       "    <tr>\n",
       "      <th>1981-01-06</th>\n",
       "      <td>0.144531</td>\n",
       "      <td>0.144531</td>\n",
       "      <td>0.143973</td>\n",
       "      <td>0.143973</td>\n",
       "      <td>0.111556</td>\n",
       "      <td>45158400</td>\n",
       "    </tr>\n",
       "    <tr>\n",
       "      <th>1981-01-07</th>\n",
       "      <td>0.138393</td>\n",
       "      <td>0.138393</td>\n",
       "      <td>0.137835</td>\n",
       "      <td>0.137835</td>\n",
       "      <td>0.106800</td>\n",
       "      <td>55686400</td>\n",
       "    </tr>\n",
       "    <tr>\n",
       "      <th>1981-01-08</th>\n",
       "      <td>0.135603</td>\n",
       "      <td>0.135603</td>\n",
       "      <td>0.135045</td>\n",
       "      <td>0.135045</td>\n",
       "      <td>0.104639</td>\n",
       "      <td>39827200</td>\n",
       "    </tr>\n",
       "    <tr>\n",
       "      <th>...</th>\n",
       "      <td>...</td>\n",
       "      <td>...</td>\n",
       "      <td>...</td>\n",
       "      <td>...</td>\n",
       "      <td>...</td>\n",
       "      <td>...</td>\n",
       "    </tr>\n",
       "    <tr>\n",
       "      <th>1982-10-25</th>\n",
       "      <td>0.115513</td>\n",
       "      <td>0.116071</td>\n",
       "      <td>0.108259</td>\n",
       "      <td>0.108817</td>\n",
       "      <td>0.084316</td>\n",
       "      <td>184934400</td>\n",
       "    </tr>\n",
       "    <tr>\n",
       "      <th>1982-10-26</th>\n",
       "      <td>0.108817</td>\n",
       "      <td>0.109933</td>\n",
       "      <td>0.103795</td>\n",
       "      <td>0.109375</td>\n",
       "      <td>0.084748</td>\n",
       "      <td>167753600</td>\n",
       "    </tr>\n",
       "    <tr>\n",
       "      <th>1982-10-27</th>\n",
       "      <td>0.109375</td>\n",
       "      <td>0.112723</td>\n",
       "      <td>0.109375</td>\n",
       "      <td>0.112165</td>\n",
       "      <td>0.086910</td>\n",
       "      <td>191161600</td>\n",
       "    </tr>\n",
       "    <tr>\n",
       "      <th>1982-10-28</th>\n",
       "      <td>0.112165</td>\n",
       "      <td>0.113281</td>\n",
       "      <td>0.110491</td>\n",
       "      <td>0.112165</td>\n",
       "      <td>0.086910</td>\n",
       "      <td>217683200</td>\n",
       "    </tr>\n",
       "    <tr>\n",
       "      <th>1982-10-29</th>\n",
       "      <td>0.112165</td>\n",
       "      <td>0.113281</td>\n",
       "      <td>0.110491</td>\n",
       "      <td>0.113281</td>\n",
       "      <td>0.087775</td>\n",
       "      <td>118115200</td>\n",
       "    </tr>\n",
       "  </tbody>\n",
       "</table>\n",
       "<p>463 rows × 6 columns</p>\n",
       "</div>"
      ],
      "text/plain": [
       "                Open      High       Low     Close  Adj Close     Volume\n",
       "Date                                                                    \n",
       "1981-01-02  0.154018  0.155134  0.154018  0.154018   0.119340   21660800\n",
       "1981-01-05  0.151228  0.151228  0.150670  0.150670   0.116746   35728000\n",
       "1981-01-06  0.144531  0.144531  0.143973  0.143973   0.111556   45158400\n",
       "1981-01-07  0.138393  0.138393  0.137835  0.137835   0.106800   55686400\n",
       "1981-01-08  0.135603  0.135603  0.135045  0.135045   0.104639   39827200\n",
       "...              ...       ...       ...       ...        ...        ...\n",
       "1982-10-25  0.115513  0.116071  0.108259  0.108817   0.084316  184934400\n",
       "1982-10-26  0.108817  0.109933  0.103795  0.109375   0.084748  167753600\n",
       "1982-10-27  0.109375  0.112723  0.109375  0.112165   0.086910  191161600\n",
       "1982-10-28  0.112165  0.113281  0.110491  0.112165   0.086910  217683200\n",
       "1982-10-29  0.112165  0.113281  0.110491  0.113281   0.087775  118115200\n",
       "\n",
       "[463 rows x 6 columns]"
      ]
     },
     "execution_count": 8,
     "metadata": {},
     "output_type": "execute_result"
    }
   ],
   "source": [
    "fdr.DataReader('AAPL', '1981-01-01', '1982-10-31') "
   ]
  },
  {
   "cell_type": "code",
   "execution_count": 9,
   "id": "47e09dfe",
   "metadata": {},
   "outputs": [
    {
     "data": {
      "text/html": [
       "<div>\n",
       "<style scoped>\n",
       "    .dataframe tbody tr th:only-of-type {\n",
       "        vertical-align: middle;\n",
       "    }\n",
       "\n",
       "    .dataframe tbody tr th {\n",
       "        vertical-align: top;\n",
       "    }\n",
       "\n",
       "    .dataframe thead th {\n",
       "        text-align: right;\n",
       "    }\n",
       "</style>\n",
       "<table border=\"1\" class=\"dataframe\">\n",
       "  <thead>\n",
       "    <tr style=\"text-align: right;\">\n",
       "      <th></th>\n",
       "      <th>Open</th>\n",
       "      <th>High</th>\n",
       "      <th>Low</th>\n",
       "      <th>Close</th>\n",
       "      <th>Adj Close</th>\n",
       "      <th>Volume</th>\n",
       "    </tr>\n",
       "    <tr>\n",
       "      <th>Date</th>\n",
       "      <th></th>\n",
       "      <th></th>\n",
       "      <th></th>\n",
       "      <th></th>\n",
       "      <th></th>\n",
       "      <th></th>\n",
       "    </tr>\n",
       "  </thead>\n",
       "  <tbody>\n",
       "    <tr>\n",
       "      <th>2014-09-17</th>\n",
       "      <td>4.826118e+05</td>\n",
       "      <td>4.838110e+05</td>\n",
       "      <td>4.681210e+05</td>\n",
       "      <td>4.732035e+05</td>\n",
       "      <td>4.732035e+05</td>\n",
       "      <td>21787470960</td>\n",
       "    </tr>\n",
       "    <tr>\n",
       "      <th>2014-09-18</th>\n",
       "      <td>4.727130e+05</td>\n",
       "      <td>4.762765e+05</td>\n",
       "      <td>4.309914e+05</td>\n",
       "      <td>4.428182e+05</td>\n",
       "      <td>4.428182e+05</td>\n",
       "      <td>35976322560</td>\n",
       "    </tr>\n",
       "    <tr>\n",
       "      <th>2014-09-19</th>\n",
       "      <td>4.424667e+05</td>\n",
       "      <td>4.475154e+05</td>\n",
       "      <td>4.012784e+05</td>\n",
       "      <td>4.119893e+05</td>\n",
       "      <td>4.119893e+05</td>\n",
       "      <td>39571102935</td>\n",
       "    </tr>\n",
       "    <tr>\n",
       "      <th>2014-09-20</th>\n",
       "      <td>4.118610e+05</td>\n",
       "      <td>4.417305e+05</td>\n",
       "      <td>4.068624e+05</td>\n",
       "      <td>4.267118e+05</td>\n",
       "      <td>4.267118e+05</td>\n",
       "      <td>38469009780</td>\n",
       "    </tr>\n",
       "    <tr>\n",
       "      <th>2014-09-21</th>\n",
       "      <td>4.258571e+05</td>\n",
       "      <td>4.303872e+05</td>\n",
       "      <td>4.103040e+05</td>\n",
       "      <td>4.161897e+05</td>\n",
       "      <td>4.161897e+05</td>\n",
       "      <td>27737663355</td>\n",
       "    </tr>\n",
       "    <tr>\n",
       "      <th>...</th>\n",
       "      <td>...</td>\n",
       "      <td>...</td>\n",
       "      <td>...</td>\n",
       "      <td>...</td>\n",
       "      <td>...</td>\n",
       "      <td>...</td>\n",
       "    </tr>\n",
       "    <tr>\n",
       "      <th>2023-11-03</th>\n",
       "      <td>4.778487e+07</td>\n",
       "      <td>4.818440e+07</td>\n",
       "      <td>4.589860e+07</td>\n",
       "      <td>4.661862e+07</td>\n",
       "      <td>4.661862e+07</td>\n",
       "      <td>28018157917905</td>\n",
       "    </tr>\n",
       "    <tr>\n",
       "      <th>2023-11-04</th>\n",
       "      <td>4.662427e+07</td>\n",
       "      <td>4.662427e+07</td>\n",
       "      <td>4.500898e+07</td>\n",
       "      <td>4.546514e+07</td>\n",
       "      <td>4.546514e+07</td>\n",
       "      <td>22460677199165</td>\n",
       "    </tr>\n",
       "    <tr>\n",
       "      <th>2023-11-05</th>\n",
       "      <td>4.547037e+07</td>\n",
       "      <td>4.615068e+07</td>\n",
       "      <td>4.531377e+07</td>\n",
       "      <td>4.592312e+07</td>\n",
       "      <td>4.592312e+07</td>\n",
       "      <td>12515877610681</td>\n",
       "    </tr>\n",
       "    <tr>\n",
       "      <th>2023-11-06</th>\n",
       "      <td>4.593335e+07</td>\n",
       "      <td>4.625776e+07</td>\n",
       "      <td>4.528438e+07</td>\n",
       "      <td>4.587688e+07</td>\n",
       "      <td>4.587688e+07</td>\n",
       "      <td>16247317395243</td>\n",
       "    </tr>\n",
       "    <tr>\n",
       "      <th>2023-11-07</th>\n",
       "      <td>4.551226e+07</td>\n",
       "      <td>4.580170e+07</td>\n",
       "      <td>4.547755e+07</td>\n",
       "      <td>4.580170e+07</td>\n",
       "      <td>4.580170e+07</td>\n",
       "      <td>17094570672128</td>\n",
       "    </tr>\n",
       "  </tbody>\n",
       "</table>\n",
       "<p>3339 rows × 6 columns</p>\n",
       "</div>"
      ],
      "text/plain": [
       "                    Open          High           Low         Close  \\\n",
       "Date                                                                 \n",
       "2014-09-17  4.826118e+05  4.838110e+05  4.681210e+05  4.732035e+05   \n",
       "2014-09-18  4.727130e+05  4.762765e+05  4.309914e+05  4.428182e+05   \n",
       "2014-09-19  4.424667e+05  4.475154e+05  4.012784e+05  4.119893e+05   \n",
       "2014-09-20  4.118610e+05  4.417305e+05  4.068624e+05  4.267118e+05   \n",
       "2014-09-21  4.258571e+05  4.303872e+05  4.103040e+05  4.161897e+05   \n",
       "...                  ...           ...           ...           ...   \n",
       "2023-11-03  4.778487e+07  4.818440e+07  4.589860e+07  4.661862e+07   \n",
       "2023-11-04  4.662427e+07  4.662427e+07  4.500898e+07  4.546514e+07   \n",
       "2023-11-05  4.547037e+07  4.615068e+07  4.531377e+07  4.592312e+07   \n",
       "2023-11-06  4.593335e+07  4.625776e+07  4.528438e+07  4.587688e+07   \n",
       "2023-11-07  4.551226e+07  4.580170e+07  4.547755e+07  4.580170e+07   \n",
       "\n",
       "               Adj Close          Volume  \n",
       "Date                                      \n",
       "2014-09-17  4.732035e+05     21787470960  \n",
       "2014-09-18  4.428182e+05     35976322560  \n",
       "2014-09-19  4.119893e+05     39571102935  \n",
       "2014-09-20  4.267118e+05     38469009780  \n",
       "2014-09-21  4.161897e+05     27737663355  \n",
       "...                  ...             ...  \n",
       "2023-11-03  4.661862e+07  28018157917905  \n",
       "2023-11-04  4.546514e+07  22460677199165  \n",
       "2023-11-05  4.592312e+07  12515877610681  \n",
       "2023-11-06  4.587688e+07  16247317395243  \n",
       "2023-11-07  4.580170e+07  17094570672128  \n",
       "\n",
       "[3339 rows x 6 columns]"
      ]
     },
     "execution_count": 9,
     "metadata": {},
     "output_type": "execute_result"
    }
   ],
   "source": [
    "fdr.DataReader('BTC/KRW')"
   ]
  },
  {
   "cell_type": "code",
   "execution_count": 10,
   "id": "c54393d2",
   "metadata": {},
   "outputs": [
    {
     "data": {
      "text/plain": [
       "DatetimeIndex(['1999-11-11', '1999-11-12', '1999-11-15', '1999-11-16',\n",
       "               '1999-11-17', '1999-11-18', '1999-11-19', '1999-11-22',\n",
       "               '1999-11-23', '1999-11-24',\n",
       "               ...\n",
       "               '2023-10-25', '2023-10-26', '2023-10-27', '2023-10-30',\n",
       "               '2023-10-31', '2023-11-01', '2023-11-02', '2023-11-03',\n",
       "               '2023-11-06', '2023-11-07'],\n",
       "              dtype='datetime64[ns]', name='Date', length=5921, freq=None)"
      ]
     },
     "execution_count": 10,
     "metadata": {},
     "output_type": "execute_result"
    }
   ],
   "source": [
    "kakao.index"
   ]
  },
  {
   "cell_type": "code",
   "execution_count": 11,
   "id": "5bfed7c7",
   "metadata": {},
   "outputs": [],
   "source": [
    "kakao['year']=kakao.index.year\n",
    "kakao['month']=kakao.index.month\n",
    "kakao['day']=kakao.index.day"
   ]
  },
  {
   "cell_type": "code",
   "execution_count": 12,
   "id": "387d6920",
   "metadata": {},
   "outputs": [
    {
     "data": {
      "text/html": [
       "<div>\n",
       "<style scoped>\n",
       "    .dataframe tbody tr th:only-of-type {\n",
       "        vertical-align: middle;\n",
       "    }\n",
       "\n",
       "    .dataframe tbody tr th {\n",
       "        vertical-align: top;\n",
       "    }\n",
       "\n",
       "    .dataframe thead th {\n",
       "        text-align: right;\n",
       "    }\n",
       "</style>\n",
       "<table border=\"1\" class=\"dataframe\">\n",
       "  <thead>\n",
       "    <tr style=\"text-align: right;\">\n",
       "      <th></th>\n",
       "      <th>Open</th>\n",
       "      <th>High</th>\n",
       "      <th>Low</th>\n",
       "      <th>Close</th>\n",
       "      <th>Volume</th>\n",
       "      <th>Change</th>\n",
       "      <th>year</th>\n",
       "      <th>month</th>\n",
       "      <th>day</th>\n",
       "    </tr>\n",
       "    <tr>\n",
       "      <th>Date</th>\n",
       "      <th></th>\n",
       "      <th></th>\n",
       "      <th></th>\n",
       "      <th></th>\n",
       "      <th></th>\n",
       "      <th></th>\n",
       "      <th></th>\n",
       "      <th></th>\n",
       "      <th></th>\n",
       "    </tr>\n",
       "  </thead>\n",
       "  <tbody>\n",
       "    <tr>\n",
       "      <th>1999-11-11</th>\n",
       "      <td>999</td>\n",
       "      <td>999</td>\n",
       "      <td>999</td>\n",
       "      <td>999</td>\n",
       "      <td>12</td>\n",
       "      <td>NaN</td>\n",
       "      <td>1999</td>\n",
       "      <td>11</td>\n",
       "      <td>11</td>\n",
       "    </tr>\n",
       "    <tr>\n",
       "      <th>1999-11-12</th>\n",
       "      <td>1115</td>\n",
       "      <td>1115</td>\n",
       "      <td>1115</td>\n",
       "      <td>1115</td>\n",
       "      <td>140</td>\n",
       "      <td>0.116116</td>\n",
       "      <td>1999</td>\n",
       "      <td>11</td>\n",
       "      <td>12</td>\n",
       "    </tr>\n",
       "    <tr>\n",
       "      <th>1999-11-15</th>\n",
       "      <td>1249</td>\n",
       "      <td>1249</td>\n",
       "      <td>1249</td>\n",
       "      <td>1249</td>\n",
       "      <td>405</td>\n",
       "      <td>0.120179</td>\n",
       "      <td>1999</td>\n",
       "      <td>11</td>\n",
       "      <td>15</td>\n",
       "    </tr>\n",
       "    <tr>\n",
       "      <th>1999-11-16</th>\n",
       "      <td>1396</td>\n",
       "      <td>1396</td>\n",
       "      <td>1396</td>\n",
       "      <td>1396</td>\n",
       "      <td>214</td>\n",
       "      <td>0.117694</td>\n",
       "      <td>1999</td>\n",
       "      <td>11</td>\n",
       "      <td>16</td>\n",
       "    </tr>\n",
       "    <tr>\n",
       "      <th>1999-11-17</th>\n",
       "      <td>1561</td>\n",
       "      <td>1561</td>\n",
       "      <td>1561</td>\n",
       "      <td>1561</td>\n",
       "      <td>191</td>\n",
       "      <td>0.118195</td>\n",
       "      <td>1999</td>\n",
       "      <td>11</td>\n",
       "      <td>17</td>\n",
       "    </tr>\n",
       "    <tr>\n",
       "      <th>...</th>\n",
       "      <td>...</td>\n",
       "      <td>...</td>\n",
       "      <td>...</td>\n",
       "      <td>...</td>\n",
       "      <td>...</td>\n",
       "      <td>...</td>\n",
       "      <td>...</td>\n",
       "      <td>...</td>\n",
       "      <td>...</td>\n",
       "    </tr>\n",
       "    <tr>\n",
       "      <th>2023-11-01</th>\n",
       "      <td>38000</td>\n",
       "      <td>38300</td>\n",
       "      <td>37450</td>\n",
       "      <td>37600</td>\n",
       "      <td>1272093</td>\n",
       "      <td>-0.005291</td>\n",
       "      <td>2023</td>\n",
       "      <td>11</td>\n",
       "      <td>1</td>\n",
       "    </tr>\n",
       "    <tr>\n",
       "      <th>2023-11-02</th>\n",
       "      <td>38000</td>\n",
       "      <td>38600</td>\n",
       "      <td>37900</td>\n",
       "      <td>38550</td>\n",
       "      <td>1529650</td>\n",
       "      <td>0.025266</td>\n",
       "      <td>2023</td>\n",
       "      <td>11</td>\n",
       "      <td>2</td>\n",
       "    </tr>\n",
       "    <tr>\n",
       "      <th>2023-11-03</th>\n",
       "      <td>39250</td>\n",
       "      <td>41550</td>\n",
       "      <td>38900</td>\n",
       "      <td>41300</td>\n",
       "      <td>3675484</td>\n",
       "      <td>0.071336</td>\n",
       "      <td>2023</td>\n",
       "      <td>11</td>\n",
       "      <td>3</td>\n",
       "    </tr>\n",
       "    <tr>\n",
       "      <th>2023-11-06</th>\n",
       "      <td>43000</td>\n",
       "      <td>44700</td>\n",
       "      <td>42300</td>\n",
       "      <td>44700</td>\n",
       "      <td>4871031</td>\n",
       "      <td>0.082324</td>\n",
       "      <td>2023</td>\n",
       "      <td>11</td>\n",
       "      <td>6</td>\n",
       "    </tr>\n",
       "    <tr>\n",
       "      <th>2023-11-07</th>\n",
       "      <td>44700</td>\n",
       "      <td>44750</td>\n",
       "      <td>42850</td>\n",
       "      <td>43750</td>\n",
       "      <td>2019068</td>\n",
       "      <td>-0.021253</td>\n",
       "      <td>2023</td>\n",
       "      <td>11</td>\n",
       "      <td>7</td>\n",
       "    </tr>\n",
       "  </tbody>\n",
       "</table>\n",
       "<p>5921 rows × 9 columns</p>\n",
       "</div>"
      ],
      "text/plain": [
       "             Open   High    Low  Close   Volume    Change  year  month  day\n",
       "Date                                                                       \n",
       "1999-11-11    999    999    999    999       12       NaN  1999     11   11\n",
       "1999-11-12   1115   1115   1115   1115      140  0.116116  1999     11   12\n",
       "1999-11-15   1249   1249   1249   1249      405  0.120179  1999     11   15\n",
       "1999-11-16   1396   1396   1396   1396      214  0.117694  1999     11   16\n",
       "1999-11-17   1561   1561   1561   1561      191  0.118195  1999     11   17\n",
       "...           ...    ...    ...    ...      ...       ...   ...    ...  ...\n",
       "2023-11-01  38000  38300  37450  37600  1272093 -0.005291  2023     11    1\n",
       "2023-11-02  38000  38600  37900  38550  1529650  0.025266  2023     11    2\n",
       "2023-11-03  39250  41550  38900  41300  3675484  0.071336  2023     11    3\n",
       "2023-11-06  43000  44700  42300  44700  4871031  0.082324  2023     11    6\n",
       "2023-11-07  44700  44750  42850  43750  2019068 -0.021253  2023     11    7\n",
       "\n",
       "[5921 rows x 9 columns]"
      ]
     },
     "execution_count": 12,
     "metadata": {},
     "output_type": "execute_result"
    }
   ],
   "source": [
    "kakao"
   ]
  },
  {
   "cell_type": "code",
   "execution_count": 13,
   "id": "e558f5db",
   "metadata": {},
   "outputs": [
    {
     "data": {
      "text/plain": [
       "Text(0, 0.5, 'price')"
      ]
     },
     "execution_count": 13,
     "metadata": {},
     "output_type": "execute_result"
    },
    {
     "data": {
      "image/png": "[encoded data removed]",
      "text/plain": [
       "<Figure size 1600x900 with 1 Axes>"
      ]
     },
     "metadata": {},
     "output_type": "display_data"
    }
   ],
   "source": [
    "plt.figure(figsize=(16,9))\n",
    "sns.lineplot(y=kakao['Close'], x=kakao.index)\n",
    "plt.xlabel('time')\n",
    "plt.ylabel('price')"
   ]
  },
  {
   "cell_type": "code",
   "execution_count": 14,
   "id": "d31e18cb",
   "metadata": {},
   "outputs": [],
   "source": [
    "ts=[['2000', '2010'],\n",
    "    ['2010', '2015'],\n",
    "    ['2015', '2020'],\n",
    "    ['2020', '2023']]"
   ]
  },
  {
   "cell_type": "code",
   "execution_count": 15,
   "id": "2035628d",
   "metadata": {},
   "outputs": [
    {
     "data": {
      "image/png": "[encoded data removed]",
      "text/plain": [
       "<Figure size 1600x900 with 4 Axes>"
      ]
     },
     "metadata": {},
     "output_type": "display_data"
    }
   ],
   "source": [
    "fig, axes=plt.subplots(2,2)\n",
    "fig.set_size_inches(16,9)\n",
    "for i in range(4):\n",
    "    ax = axes[i//2, i%2]\n",
    "    df = kakao.loc[(kakao.index > ts[i][0]) & (kakao.index <ts[i][1])]\n",
    "    sns.lineplot(y=df['Close'], x=df.index, ax=ax)\n",
    "    ax.set_title(f'{ts[i][0]}~{ts[i][1]}')\n",
    "    ax.set_xlabel('time')\n",
    "    ax.set_ylabel('price')\n",
    "plt.tight_layout()"
   ]
  },
  {
   "cell_type": "code",
   "execution_count": 16,
   "id": "57aac784",
   "metadata": {},
   "outputs": [],
   "source": [
    "from sklearn.preprocessing import MinMaxScaler\n"
   ]
  },
  {
   "cell_type": "code",
   "execution_count": 17,
   "id": "a0c839c2",
   "metadata": {},
   "outputs": [],
   "source": [
    "scaler = MinMaxScaler()\n"
   ]
  },
  {
   "cell_type": "code",
   "execution_count": 18,
   "id": "f4bcfc71",
   "metadata": {},
   "outputs": [],
   "source": [
    "cols = ['Open', 'High', 'Low', 'Close', 'Volume']"
   ]
  },
  {
   "cell_type": "code",
   "execution_count": 19,
   "id": "458e2feb",
   "metadata": {},
   "outputs": [
    {
     "data": {
      "text/plain": [
       "array([[5.80813953e-03, 5.77456647e-03, 6.20496894e-03, 0.00000000e+00,\n",
       "        6.35083673e-07],\n",
       "       [6.48255814e-03, 6.44508671e-03, 6.92546584e-03, 6.88423214e-04,\n",
       "        7.40930952e-06],\n",
       "       [7.26162791e-03, 7.21965318e-03, 7.75776398e-03, 1.48367072e-03,\n",
       "        2.14340740e-05],\n",
       "       ...,\n",
       "       [2.28197674e-01, 2.40173410e-01, 2.41614907e-01, 2.39173655e-01,\n",
       "        1.94519990e-01],\n",
       "       [2.50000000e-01, 2.58381503e-01, 2.62732919e-01, 2.59351577e-01,\n",
       "        2.57792688e-01],\n",
       "       [2.59883721e-01, 2.58670520e-01, 2.66149068e-01, 2.53713628e-01,\n",
       "        1.06856427e-01]])"
      ]
     },
     "execution_count": 19,
     "metadata": {},
     "output_type": "execute_result"
    }
   ],
   "source": [
    "scaled=scaler.fit_transform(kakao[cols])\n",
    "scaled"
   ]
  },
  {
   "cell_type": "code",
   "execution_count": 20,
   "id": "8aaf0f67",
   "metadata": {},
   "outputs": [],
   "source": [
    "df = pd.DataFrame(scaled, columns=cols)"
   ]
  },
  {
   "cell_type": "code",
   "execution_count": 21,
   "id": "c181ca9e",
   "metadata": {},
   "outputs": [
    {
     "data": {
      "text/html": [
       "<div>\n",
       "<style scoped>\n",
       "    .dataframe tbody tr th:only-of-type {\n",
       "        vertical-align: middle;\n",
       "    }\n",
       "\n",
       "    .dataframe tbody tr th {\n",
       "        vertical-align: top;\n",
       "    }\n",
       "\n",
       "    .dataframe thead th {\n",
       "        text-align: right;\n",
       "    }\n",
       "</style>\n",
       "<table border=\"1\" class=\"dataframe\">\n",
       "  <thead>\n",
       "    <tr style=\"text-align: right;\">\n",
       "      <th></th>\n",
       "      <th>Open</th>\n",
       "      <th>High</th>\n",
       "      <th>Low</th>\n",
       "      <th>Close</th>\n",
       "      <th>Volume</th>\n",
       "    </tr>\n",
       "  </thead>\n",
       "  <tbody>\n",
       "    <tr>\n",
       "      <th>0</th>\n",
       "      <td>0.005808</td>\n",
       "      <td>0.005775</td>\n",
       "      <td>0.006205</td>\n",
       "      <td>0.000000</td>\n",
       "      <td>6.350837e-07</td>\n",
       "    </tr>\n",
       "    <tr>\n",
       "      <th>1</th>\n",
       "      <td>0.006483</td>\n",
       "      <td>0.006445</td>\n",
       "      <td>0.006925</td>\n",
       "      <td>0.000688</td>\n",
       "      <td>7.409310e-06</td>\n",
       "    </tr>\n",
       "    <tr>\n",
       "      <th>2</th>\n",
       "      <td>0.007262</td>\n",
       "      <td>0.007220</td>\n",
       "      <td>0.007758</td>\n",
       "      <td>0.001484</td>\n",
       "      <td>2.143407e-05</td>\n",
       "    </tr>\n",
       "    <tr>\n",
       "      <th>3</th>\n",
       "      <td>0.008116</td>\n",
       "      <td>0.008069</td>\n",
       "      <td>0.008671</td>\n",
       "      <td>0.002356</td>\n",
       "      <td>1.132566e-05</td>\n",
       "    </tr>\n",
       "    <tr>\n",
       "      <th>4</th>\n",
       "      <td>0.009076</td>\n",
       "      <td>0.009023</td>\n",
       "      <td>0.009696</td>\n",
       "      <td>0.003335</td>\n",
       "      <td>1.010842e-05</td>\n",
       "    </tr>\n",
       "    <tr>\n",
       "      <th>...</th>\n",
       "      <td>...</td>\n",
       "      <td>...</td>\n",
       "      <td>...</td>\n",
       "      <td>...</td>\n",
       "      <td>...</td>\n",
       "    </tr>\n",
       "    <tr>\n",
       "      <th>5916</th>\n",
       "      <td>0.220930</td>\n",
       "      <td>0.221387</td>\n",
       "      <td>0.232609</td>\n",
       "      <td>0.217215</td>\n",
       "      <td>6.732379e-02</td>\n",
       "    </tr>\n",
       "    <tr>\n",
       "      <th>5917</th>\n",
       "      <td>0.220930</td>\n",
       "      <td>0.223121</td>\n",
       "      <td>0.235404</td>\n",
       "      <td>0.222853</td>\n",
       "      <td>8.095465e-02</td>\n",
       "    </tr>\n",
       "    <tr>\n",
       "      <th>5918</th>\n",
       "      <td>0.228198</td>\n",
       "      <td>0.240173</td>\n",
       "      <td>0.241615</td>\n",
       "      <td>0.239174</td>\n",
       "      <td>1.945200e-01</td>\n",
       "    </tr>\n",
       "    <tr>\n",
       "      <th>5919</th>\n",
       "      <td>0.250000</td>\n",
       "      <td>0.258382</td>\n",
       "      <td>0.262733</td>\n",
       "      <td>0.259352</td>\n",
       "      <td>2.577927e-01</td>\n",
       "    </tr>\n",
       "    <tr>\n",
       "      <th>5920</th>\n",
       "      <td>0.259884</td>\n",
       "      <td>0.258671</td>\n",
       "      <td>0.266149</td>\n",
       "      <td>0.253714</td>\n",
       "      <td>1.068564e-01</td>\n",
       "    </tr>\n",
       "  </tbody>\n",
       "</table>\n",
       "<p>5921 rows × 5 columns</p>\n",
       "</div>"
      ],
      "text/plain": [
       "          Open      High       Low     Close        Volume\n",
       "0     0.005808  0.005775  0.006205  0.000000  6.350837e-07\n",
       "1     0.006483  0.006445  0.006925  0.000688  7.409310e-06\n",
       "2     0.007262  0.007220  0.007758  0.001484  2.143407e-05\n",
       "3     0.008116  0.008069  0.008671  0.002356  1.132566e-05\n",
       "4     0.009076  0.009023  0.009696  0.003335  1.010842e-05\n",
       "...        ...       ...       ...       ...           ...\n",
       "5916  0.220930  0.221387  0.232609  0.217215  6.732379e-02\n",
       "5917  0.220930  0.223121  0.235404  0.222853  8.095465e-02\n",
       "5918  0.228198  0.240173  0.241615  0.239174  1.945200e-01\n",
       "5919  0.250000  0.258382  0.262733  0.259352  2.577927e-01\n",
       "5920  0.259884  0.258671  0.266149  0.253714  1.068564e-01\n",
       "\n",
       "[5921 rows x 5 columns]"
      ]
     },
     "execution_count": 21,
     "metadata": {},
     "output_type": "execute_result"
    }
   ],
   "source": [
    "df"
   ]
  },
  {
   "cell_type": "code",
   "execution_count": 22,
   "id": "2fe0471b",
   "metadata": {},
   "outputs": [],
   "source": [
    "from sklearn.model_selection import train_test_split\n"
   ]
  },
  {
   "cell_type": "code",
   "execution_count": 23,
   "id": "a3e1b82d",
   "metadata": {},
   "outputs": [
    {
     "name": "stderr",
     "output_type": "stream",
     "text": [
      "C:\\Users\\user\\AppData\\Local\\Temp\\ipykernel_3456\\3045550222.py:1: FutureWarning: In a future version of pandas all arguments of DataFrame.drop except for the argument 'labels' will be keyword-only.\n",
      "  xtrain, xtest, ytrain, ytest=train_test_split(df.drop('Close',1), df['Close'], test_size=0.2, random_state=0, shuffle=False )\n"
     ]
    }
   ],
   "source": [
    "xtrain, xtest, ytrain, ytest=train_test_split(df.drop('Close',1), df['Close'], test_size=0.2, random_state=0, shuffle=False )"
   ]
  },
  {
   "cell_type": "code",
   "execution_count": 24,
   "id": "8de822a6",
   "metadata": {},
   "outputs": [
    {
     "data": {
      "text/plain": [
       "(4736, 4)"
      ]
     },
     "execution_count": 24,
     "metadata": {},
     "output_type": "execute_result"
    }
   ],
   "source": [
    "xtrain.shape"
   ]
  },
  {
   "cell_type": "code",
   "execution_count": 25,
   "id": "1d433cf5",
   "metadata": {},
   "outputs": [
    {
     "data": {
      "text/plain": [
       "(1185, 4)"
      ]
     },
     "execution_count": 25,
     "metadata": {},
     "output_type": "execute_result"
    }
   ],
   "source": [
    "xtest.shape"
   ]
  },
  {
   "cell_type": "code",
   "execution_count": 26,
   "id": "91160dfa",
   "metadata": {},
   "outputs": [
    {
     "data": {
      "text/plain": [
       "(4736,)"
      ]
     },
     "execution_count": 26,
     "metadata": {},
     "output_type": "execute_result"
    }
   ],
   "source": [
    "ytrain.shape"
   ]
  },
  {
   "cell_type": "code",
   "execution_count": 27,
   "id": "10ab5cc5",
   "metadata": {},
   "outputs": [
    {
     "name": "stdout",
     "output_type": "stream",
     "text": [
      "Model: \"sequential\"\n",
      "_________________________________________________________________\n",
      " Layer (type)                Output Shape              Param #   \n",
      "=================================================================\n",
      " simple_rnn (SimpleRNN)      (None, 3)                 42        \n",
      "                                                                 \n",
      "=================================================================\n",
      "Total params: 42 (168.00 Byte)\n",
      "Trainable params: 42 (168.00 Byte)\n",
      "Non-trainable params: 0 (0.00 Byte)\n",
      "_________________________________________________________________\n"
     ]
    }
   ],
   "source": [
    "from tensorflow.keras.models import Sequential\n",
    "from tensorflow.keras.layers import SimpleRNN\n",
    "\n",
    "model = Sequential()\n",
    "model.add(SimpleRNN(3, input_shape=(2,10)))\n",
    "# model.add(SimpleRNN(3, input_length=2, input_dim=10))와 동일함.\n",
    "model.summary()"
   ]
  },
  {
   "cell_type": "code",
   "execution_count": 28,
   "id": "7bd67523",
   "metadata": {},
   "outputs": [],
   "source": [
    "import numpy as np\n",
    "\n",
    "timesteps = 10\n",
    "input_dim = 4\n",
    "hidden_units = 8\n",
    "\n",
    "# 입력에 해당되는 2D 텐서\n",
    "inputs = np.random.random((timesteps, input_dim))"
   ]
  },
  {
   "cell_type": "code",
   "execution_count": 29,
   "id": "98a9d277",
   "metadata": {},
   "outputs": [
    {
     "data": {
      "text/plain": [
       "array([[0.41046968, 0.59843811, 0.99069449, 0.79152176],\n",
       "       [0.60650655, 0.66754451, 0.15771612, 0.50722831],\n",
       "       [0.78644557, 0.16000736, 0.32241258, 0.51650007],\n",
       "       [0.69677232, 0.63423323, 0.82196033, 0.45717106],\n",
       "       [0.70467182, 0.31404765, 0.04487422, 0.67436827],\n",
       "       [0.58551339, 0.60702936, 0.94821572, 0.98927236],\n",
       "       [0.6709437 , 0.25722847, 0.28168891, 0.154511  ],\n",
       "       [0.99493511, 0.32415232, 0.38059165, 0.55854813],\n",
       "       [0.3319683 , 0.53275363, 0.59573469, 0.73726686],\n",
       "       [0.19711053, 0.63565095, 0.2697214 , 0.76903816]])"
      ]
     },
     "execution_count": 29,
     "metadata": {},
     "output_type": "execute_result"
    }
   ],
   "source": [
    "inputs"
   ]
  },
  {
   "cell_type": "code",
   "execution_count": 30,
   "id": "9243863e",
   "metadata": {},
   "outputs": [
    {
     "data": {
      "text/plain": [
       "array([0., 0., 0., 0., 0., 0., 0., 0.])"
      ]
     },
     "execution_count": 30,
     "metadata": {},
     "output_type": "execute_result"
    }
   ],
   "source": [
    "# 초기 은닉 상태는 0(벡터)로 초기화\n",
    "hidden_state_t = np.zeros((hidden_units,)) \n",
    "hidden_state_t"
   ]
  },
  {
   "cell_type": "code",
   "execution_count": 31,
   "id": "b5748442",
   "metadata": {},
   "outputs": [
    {
     "name": "stdout",
     "output_type": "stream",
     "text": [
      "초기 은닉 상태 : [0. 0. 0. 0. 0. 0. 0. 0.]\n"
     ]
    }
   ],
   "source": [
    "print('초기 은닉 상태 :',hidden_state_t)"
   ]
  },
  {
   "cell_type": "code",
   "execution_count": null,
   "id": "5f5af668",
   "metadata": {},
   "outputs": [],
   "source": []
  },
  {
   "cell_type": "code",
   "execution_count": 32,
   "id": "cd87e871",
   "metadata": {},
   "outputs": [
    {
     "name": "stdout",
     "output_type": "stream",
     "text": [
      "가중치 Wx의 크기(shape) : (8, 4)\n",
      "가중치 Wh의 크기(shape) : (8, 8)\n",
      "편향의 크기(shape) : (8,)\n"
     ]
    }
   ],
   "source": [
    "Wx = np.random.random((hidden_units, input_dim))  # (8, 4)크기의 2D 텐서 생성. 입력에 대한 가중치.\n",
    "Wh = np.random.random((hidden_units, hidden_units)) # (8, 8)크기의 2D 텐서 생성. 은닉 상태에 대한 가중치.\n",
    "b = np.random.random((hidden_units,)) # (8,)크기의 1D 텐서 생성. 이 값은 편향(bias).\n",
    "\n",
    "print('가중치 Wx의 크기(shape) :',np.shape(Wx))\n",
    "print('가중치 Wh의 크기(shape) :',np.shape(Wh))\n",
    "print('편향의 크기(shape) :',np.shape(b))"
   ]
  },
  {
   "cell_type": "code",
   "execution_count": 33,
   "id": "d823c3f7",
   "metadata": {},
   "outputs": [
    {
     "data": {
      "text/plain": [
       "'\\ntimesteps = 10\\ninput_dim = 4\\nhidden_units = 8\\n'"
      ]
     },
     "execution_count": 33,
     "metadata": {},
     "output_type": "execute_result"
    }
   ],
   "source": [
    "\"\"\"\n",
    "timesteps = 10\n",
    "input_dim = 4\n",
    "hidden_units = 8\n",
    "\"\"\""
   ]
  },
  {
   "cell_type": "code",
   "execution_count": 42,
   "id": "eabc66c5",
   "metadata": {},
   "outputs": [],
   "source": [
    "def make_dataset(data, label, window_size=20):\n",
    "    feature_list = []\n",
    "    label_list = []\n",
    "    for i in range(len(data) - window_size):\n",
    "        feature_list.append(np.array(data.iloc[i:i+window_size]))\n",
    "        label_list.append(np.array(label.iloc[i+window_size]))\n",
    "    return np.array(feature_list), np.array(label_list)"
   ]
  },
  {
   "cell_type": "code",
   "execution_count": 44,
   "id": "efcfe001",
   "metadata": {},
   "outputs": [
    {
     "ename": "NameError",
     "evalue": "name 'feature_list' is not defined",
     "output_type": "error",
     "traceback": [
      "\u001b[1;31m---------------------------------------------------------------------------\u001b[0m",
      "\u001b[1;31mNameError\u001b[0m                                 Traceback (most recent call last)",
      "Cell \u001b[1;32mIn[44], line 1\u001b[0m\n\u001b[1;32m----> 1\u001b[0m feature_list\n",
      "\u001b[1;31mNameError\u001b[0m: name 'feature_list' is not defined"
     ]
    }
   ],
   "source": [
    "feature_list"
   ]
  },
  {
   "cell_type": "code",
   "execution_count": 45,
   "id": "b1f0d138",
   "metadata": {},
   "outputs": [
    {
     "data": {
      "text/plain": [
       "array([[[5.80813953e-03, 5.77456647e-03, 6.20496894e-03, 6.35083673e-07],\n",
       "        [6.48255814e-03, 6.44508671e-03, 6.92546584e-03, 7.40930952e-06],\n",
       "        [7.26162791e-03, 7.21965318e-03, 7.75776398e-03, 2.14340740e-05],\n",
       "        ...,\n",
       "        [3.92151163e-02, 3.89884393e-02, 4.18944099e-02, 1.20612974e-04],\n",
       "        [4.38837209e-02, 4.36300578e-02, 4.68819876e-02, 9.83321221e-05],\n",
       "        [4.91279070e-02, 4.88439306e-02, 5.24844720e-02, 2.80495289e-05]],\n",
       "\n",
       "       [[6.48255814e-03, 6.44508671e-03, 6.92546584e-03, 7.40930952e-06],\n",
       "        [7.26162791e-03, 7.21965318e-03, 7.75776398e-03, 2.14340740e-05],\n",
       "        [8.11627907e-03, 8.06936416e-03, 8.67080745e-03, 1.13256588e-05],\n",
       "        ...,\n",
       "        [4.38837209e-02, 4.36300578e-02, 4.68819876e-02, 9.83321221e-05],\n",
       "        [4.91279070e-02, 4.88439306e-02, 5.24844720e-02, 2.80495289e-05],\n",
       "        [5.49883721e-02, 5.46705202e-02, 5.87453416e-02, 1.60358628e-05]],\n",
       "\n",
       "       [[7.26162791e-03, 7.21965318e-03, 7.75776398e-03, 2.14340740e-05],\n",
       "        [8.11627907e-03, 8.06936416e-03, 8.67080745e-03, 1.13256588e-05],\n",
       "        [9.07558140e-03, 9.02312139e-03, 9.69565217e-03, 1.01084151e-05],\n",
       "        ...,\n",
       "        [4.91279070e-02, 4.88439306e-02, 5.24844720e-02, 2.80495289e-05],\n",
       "        [5.49883721e-02, 5.46705202e-02, 5.87453416e-02, 1.60358628e-05],\n",
       "        [6.14709302e-02, 6.11156069e-02, 6.56708075e-02, 4.86368246e-05]],\n",
       "\n",
       "       ...,\n",
       "\n",
       "       [[1.30104651e-01, 1.32832370e-01, 1.37751553e-01, 2.61912212e-02],\n",
       "        [1.28936047e-01, 1.29346821e-01, 1.35881988e-01, 1.04155310e-02],\n",
       "        [1.28360465e-01, 1.29942197e-01, 1.35260870e-01, 9.16399279e-03],\n",
       "        ...,\n",
       "        [1.17860465e-01, 1.19497110e-01, 1.25291925e-01, 1.54311043e-02],\n",
       "        [1.17860465e-01, 1.20080925e-01, 1.25913043e-01, 9.55594526e-03],\n",
       "        [1.19017442e-01, 1.18329480e-01, 1.24409938e-01, 1.28765861e-02]],\n",
       "\n",
       "       [[1.28936047e-01, 1.29346821e-01, 1.35881988e-01, 1.04155310e-02],\n",
       "        [1.28360465e-01, 1.29942197e-01, 1.35260870e-01, 9.16399279e-03],\n",
       "        [1.26604651e-01, 1.28768786e-01, 1.33385093e-01, 1.00006097e-02],\n",
       "        ...,\n",
       "        [1.17860465e-01, 1.20080925e-01, 1.25913043e-01, 9.55594526e-03],\n",
       "        [1.19017442e-01, 1.18329480e-01, 1.24409938e-01, 1.28765861e-02],\n",
       "        [1.16680233e-01, 1.18907514e-01, 1.24037267e-01, 2.01946553e-02]],\n",
       "\n",
       "       [[1.28360465e-01, 1.29942197e-01, 1.35260870e-01, 9.16399279e-03],\n",
       "        [1.26604651e-01, 1.28768786e-01, 1.33385093e-01, 1.00006097e-02],\n",
       "        [1.26610465e-01, 1.26462428e-01, 1.32142857e-01, 1.15636564e-02],\n",
       "        ...,\n",
       "        [1.19017442e-01, 1.18329480e-01, 1.24409938e-01, 1.28765861e-02],\n",
       "        [1.16680233e-01, 1.18907514e-01, 1.24037267e-01, 2.01946553e-02],\n",
       "        [1.17267442e-01, 1.17167630e-01, 1.24409938e-01, 1.14954908e-02]]])"
      ]
     },
     "execution_count": 45,
     "metadata": {},
     "output_type": "execute_result"
    }
   ],
   "source": [
    "xtrain"
   ]
  },
  {
   "cell_type": "code",
   "execution_count": null,
   "id": "fba2c8b3",
   "metadata": {},
   "outputs": [],
   "source": []
  },
  {
   "cell_type": "code",
   "execution_count": 35,
   "id": "85e9c743",
   "metadata": {},
   "outputs": [],
   "source": [
    "xtrain, ytrain = make_dataset(xtrain, ytrain, 20)"
   ]
  },
  {
   "cell_type": "code",
   "execution_count": 40,
   "id": "81e634e4",
   "metadata": {},
   "outputs": [
    {
     "data": {
      "text/plain": [
       "(4716, 20, 4)"
      ]
     },
     "execution_count": 40,
     "metadata": {},
     "output_type": "execute_result"
    }
   ],
   "source": [
    "xtrain.shape"
   ]
  },
  {
   "cell_type": "code",
   "execution_count": 47,
   "id": "44d8d813",
   "metadata": {},
   "outputs": [],
   "source": [
    "ytrain.shape\n",
    "ytrain = ytrain.reshape(ytrain.shape[0],1)"
   ]
  },
  {
   "cell_type": "code",
   "execution_count": 48,
   "id": "d8a2e795",
   "metadata": {},
   "outputs": [
    {
     "data": {
      "text/plain": [
       "(4716, 1)"
      ]
     },
     "execution_count": 48,
     "metadata": {},
     "output_type": "execute_result"
    }
   ],
   "source": [
    "ytrain.shape"
   ]
  },
  {
   "cell_type": "code",
   "execution_count": 49,
   "id": "bca58ca3",
   "metadata": {},
   "outputs": [
    {
     "data": {
      "text/plain": [
       "(1185, 4)"
      ]
     },
     "execution_count": 49,
     "metadata": {},
     "output_type": "execute_result"
    }
   ],
   "source": [
    "xtest.shape"
   ]
  },
  {
   "cell_type": "code",
   "execution_count": 50,
   "id": "23d8210e",
   "metadata": {},
   "outputs": [
    {
     "data": {
      "text/plain": [
       "(1185,)"
      ]
     },
     "execution_count": 50,
     "metadata": {},
     "output_type": "execute_result"
    }
   ],
   "source": [
    "ytest.shape"
   ]
  },
  {
   "cell_type": "code",
   "execution_count": 51,
   "id": "c445e280",
   "metadata": {},
   "outputs": [],
   "source": [
    "xtest, ytest = make_dataset(xtest, ytest, 20)"
   ]
  },
  {
   "cell_type": "code",
   "execution_count": 52,
   "id": "ba7dbea1",
   "metadata": {},
   "outputs": [
    {
     "data": {
      "text/plain": [
       "(1165, 20, 4)"
      ]
     },
     "execution_count": 52,
     "metadata": {},
     "output_type": "execute_result"
    }
   ],
   "source": [
    "xtest.shape"
   ]
  },
  {
   "cell_type": "code",
   "execution_count": 53,
   "id": "1fb32a42",
   "metadata": {},
   "outputs": [
    {
     "data": {
      "text/plain": [
       "(1165,)"
      ]
     },
     "execution_count": 53,
     "metadata": {},
     "output_type": "execute_result"
    }
   ],
   "source": [
    "ytest.shape"
   ]
  },
  {
   "cell_type": "code",
   "execution_count": 54,
   "id": "10bac82f",
   "metadata": {},
   "outputs": [],
   "source": [
    "ytest=ytest.reshape(ytest.shape[0],1)"
   ]
  },
  {
   "cell_type": "code",
   "execution_count": 56,
   "id": "c2a46523",
   "metadata": {},
   "outputs": [
    {
     "data": {
      "text/plain": [
       "(1165, 1)"
      ]
     },
     "execution_count": 56,
     "metadata": {},
     "output_type": "execute_result"
    }
   ],
   "source": [
    "ytest.shape"
   ]
  },
  {
   "cell_type": "code",
   "execution_count": 60,
   "id": "2e8e8af8",
   "metadata": {},
   "outputs": [],
   "source": [
    "from keras.models import Sequential\n",
    "from keras.layers import Dense\n",
    "from keras.callbacks import EarlyStopping, ModelCheckpoint\n",
    "from keras.layers import LSTM"
   ]
  },
  {
   "cell_type": "code",
   "execution_count": 65,
   "id": "6e57e0cf",
   "metadata": {},
   "outputs": [],
   "source": [
    "xtrain, x_valid, ytrain, y_valid = train_test_split(xtrain, ytrain, test_size=0.2)"
   ]
  },
  {
   "cell_type": "code",
   "execution_count": null,
   "id": "e75f996e",
   "metadata": {},
   "outputs": [],
   "source": []
  },
  {
   "cell_type": "code",
   "execution_count": 58,
   "id": "ede7851b",
   "metadata": {},
   "outputs": [],
   "source": [
    "model = Sequential()"
   ]
  },
  {
   "cell_type": "code",
   "execution_count": 63,
   "id": "5da45cb9",
   "metadata": {},
   "outputs": [],
   "source": [
    "model.add(LSTM(16, \n",
    "               input_shape = (xtrain.shape[1],xtrain.shape[2]),\n",
    "               activation = 'relu',\n",
    "              return_sequences = False))"
   ]
  },
  {
   "cell_type": "code",
   "execution_count": 64,
   "id": "53fdb70e",
   "metadata": {},
   "outputs": [],
   "source": [
    "model.add(Dense(1)) #activation default  == linear"
   ]
  },
  {
   "cell_type": "code",
   "execution_count": 66,
   "id": "a3352aec",
   "metadata": {},
   "outputs": [],
   "source": [
    "model.compile(loss='mean_squared_error', optimizer='adam') #mean_squared_error 숫자를 예측하는 loss 옵션\n",
    "early_stop = EarlyStopping(monitor='val_loss', patience=5)\n",
    "checkpoint = ModelCheckpoint('tmp_checkpoint.h5', monitor='val_loss', verbose=1, save_best_only=True, mode='auto')"
   ]
  },
  {
   "cell_type": "code",
   "execution_count": 67,
   "id": "4b7bd30b",
   "metadata": {},
   "outputs": [
    {
     "name": "stdout",
     "output_type": "stream",
     "text": [
      "Epoch 1/200\n",
      "227/236 [===========================>..] - ETA: 0s - loss: 5.3915e-04\n",
      "Epoch 1: val_loss improved from inf to 0.00005, saving model to tmp_checkpoint.h5\n",
      "236/236 [==============================] - 3s 6ms/step - loss: 5.2075e-04 - val_loss: 4.5645e-05\n",
      "Epoch 2/200\n",
      " 36/236 [===>..........................] - ETA: 0s - loss: 3.5794e-05"
     ]
    },
    {
     "name": "stderr",
     "output_type": "stream",
     "text": [
      "C:\\Users\\user\\anaconda3\\Lib\\site-packages\\keras\\src\\engine\\training.py:3079: UserWarning: You are saving your model as an HDF5 file via `model.save()`. This file format is considered legacy. We recommend using instead the native Keras format, e.g. `model.save('my_model.keras')`.\n",
      "  saving_api.save_model(\n"
     ]
    },
    {
     "name": "stdout",
     "output_type": "stream",
     "text": [
      "224/236 [===========================>..] - ETA: 0s - loss: 4.3512e-05\n",
      "Epoch 2: val_loss improved from 0.00005 to 0.00004, saving model to tmp_checkpoint.h5\n",
      "236/236 [==============================] - 1s 5ms/step - loss: 4.2721e-05 - val_loss: 3.5764e-05\n",
      "Epoch 3/200\n",
      "233/236 [============================>.] - ETA: 0s - loss: 3.8979e-05\n",
      "Epoch 3: val_loss improved from 0.00004 to 0.00003, saving model to tmp_checkpoint.h5\n",
      "236/236 [==============================] - 1s 5ms/step - loss: 3.8783e-05 - val_loss: 3.1278e-05\n",
      "Epoch 4/200\n",
      "234/236 [============================>.] - ETA: 0s - loss: 3.4505e-05\n",
      "Epoch 4: val_loss improved from 0.00003 to 0.00003, saving model to tmp_checkpoint.h5\n",
      "236/236 [==============================] - 1s 5ms/step - loss: 3.4528e-05 - val_loss: 3.1002e-05\n",
      "Epoch 5/200\n",
      "227/236 [===========================>..] - ETA: 0s - loss: 3.0031e-05\n",
      "Epoch 5: val_loss improved from 0.00003 to 0.00003, saving model to tmp_checkpoint.h5\n",
      "236/236 [==============================] - 1s 5ms/step - loss: 3.1887e-05 - val_loss: 2.8725e-05\n",
      "Epoch 6/200\n",
      "226/236 [===========================>..] - ETA: 0s - loss: 2.9843e-05\n",
      "Epoch 6: val_loss improved from 0.00003 to 0.00002, saving model to tmp_checkpoint.h5\n",
      "236/236 [==============================] - 1s 5ms/step - loss: 2.9380e-05 - val_loss: 2.4912e-05\n",
      "Epoch 7/200\n",
      "223/236 [===========================>..] - ETA: 0s - loss: 2.6806e-05\n",
      "Epoch 7: val_loss did not improve from 0.00002\n",
      "236/236 [==============================] - 1s 5ms/step - loss: 2.7575e-05 - val_loss: 3.0484e-05\n",
      "Epoch 8/200\n",
      "232/236 [============================>.] - ETA: 0s - loss: 2.7306e-05\n",
      "Epoch 8: val_loss did not improve from 0.00002\n",
      "236/236 [==============================] - 1s 5ms/step - loss: 2.7233e-05 - val_loss: 2.5438e-05\n",
      "Epoch 9/200\n",
      "225/236 [===========================>..] - ETA: 0s - loss: 2.5420e-05\n",
      "Epoch 9: val_loss improved from 0.00002 to 0.00002, saving model to tmp_checkpoint.h5\n",
      "236/236 [==============================] - 1s 5ms/step - loss: 2.4947e-05 - val_loss: 2.3224e-05\n",
      "Epoch 10/200\n",
      "225/236 [===========================>..] - ETA: 0s - loss: 2.5191e-05\n",
      "Epoch 10: val_loss did not improve from 0.00002\n",
      "236/236 [==============================] - 1s 4ms/step - loss: 2.5491e-05 - val_loss: 2.3367e-05\n",
      "Epoch 11/200\n",
      "235/236 [============================>.] - ETA: 0s - loss: 2.3756e-05\n",
      "Epoch 11: val_loss did not improve from 0.00002\n",
      "236/236 [==============================] - 1s 4ms/step - loss: 2.3759e-05 - val_loss: 2.3940e-05\n",
      "Epoch 12/200\n",
      "229/236 [============================>.] - ETA: 0s - loss: 2.2997e-05\n",
      "Epoch 12: val_loss did not improve from 0.00002\n",
      "236/236 [==============================] - 1s 4ms/step - loss: 2.3555e-05 - val_loss: 2.4043e-05\n",
      "Epoch 13/200\n",
      "226/236 [===========================>..] - ETA: 0s - loss: 2.2827e-05\n",
      "Epoch 13: val_loss did not improve from 0.00002\n",
      "236/236 [==============================] - 1s 5ms/step - loss: 2.2601e-05 - val_loss: 2.5151e-05\n",
      "Epoch 14/200\n",
      "227/236 [===========================>..] - ETA: 0s - loss: 2.1932e-05\n",
      "Epoch 14: val_loss improved from 0.00002 to 0.00002, saving model to tmp_checkpoint.h5\n",
      "236/236 [==============================] - 1s 5ms/step - loss: 2.1723e-05 - val_loss: 2.2657e-05\n",
      "Epoch 15/200\n",
      "234/236 [============================>.] - ETA: 0s - loss: 2.0464e-05\n",
      "Epoch 15: val_loss did not improve from 0.00002\n",
      "236/236 [==============================] - 1s 5ms/step - loss: 2.0433e-05 - val_loss: 2.4463e-05\n",
      "Epoch 16/200\n",
      "234/236 [============================>.] - ETA: 0s - loss: 2.1409e-05\n",
      "Epoch 16: val_loss did not improve from 0.00002\n",
      "236/236 [==============================] - 1s 5ms/step - loss: 2.1302e-05 - val_loss: 2.3023e-05\n",
      "Epoch 17/200\n",
      "233/236 [============================>.] - ETA: 0s - loss: 2.0539e-05\n",
      "Epoch 17: val_loss did not improve from 0.00002\n",
      "236/236 [==============================] - 1s 5ms/step - loss: 2.0406e-05 - val_loss: 2.3913e-05\n",
      "Epoch 18/200\n",
      "236/236 [==============================] - ETA: 0s - loss: 1.9664e-05\n",
      "Epoch 18: val_loss did not improve from 0.00002\n",
      "236/236 [==============================] - 1s 5ms/step - loss: 1.9664e-05 - val_loss: 3.5833e-05\n",
      "Epoch 19/200\n",
      "232/236 [============================>.] - ETA: 0s - loss: 2.0268e-05\n",
      "Epoch 19: val_loss did not improve from 0.00002\n",
      "236/236 [==============================] - 1s 5ms/step - loss: 2.0145e-05 - val_loss: 2.3742e-05\n"
     ]
    }
   ],
   "source": [
    "history = model.fit(xtrain, ytrain, \n",
    "                    epochs=200, \n",
    "                    batch_size=16,\n",
    "                    validation_data=(x_valid, y_valid), #검증작업을 위한 데이터\n",
    "                    callbacks=[early_stop, checkpoint])"
   ]
  },
  {
   "cell_type": "code",
   "execution_count": 70,
   "id": "6684bed0",
   "metadata": {},
   "outputs": [],
   "source": [
    "model.load_weights('tmp_checkpoint.h5')"
   ]
  },
  {
   "cell_type": "code",
   "execution_count": 73,
   "id": "e9cf6091",
   "metadata": {
    "scrolled": true
   },
   "outputs": [
    {
     "name": "stdout",
     "output_type": "stream",
     "text": [
      "37/37 [==============================] - 0s 2ms/step\n"
     ]
    }
   ],
   "source": [
    "pred = model.predict(xtest)"
   ]
  },
  {
   "cell_type": "code",
   "execution_count": 74,
   "id": "5c5e00c6",
   "metadata": {},
   "outputs": [
    {
     "data": {
      "text/plain": [
       "array([[0.11421218],\n",
       "       [0.11364358],\n",
       "       [0.11322036],\n",
       "       ...,\n",
       "       [0.2025499 ],\n",
       "       [0.21562292],\n",
       "       [0.23678565]], dtype=float32)"
      ]
     },
     "execution_count": 74,
     "metadata": {},
     "output_type": "execute_result"
    }
   ],
   "source": [
    "pred"
   ]
  },
  {
   "cell_type": "code",
   "execution_count": 75,
   "id": "be743dfa",
   "metadata": {},
   "outputs": [
    {
     "data": {
      "image/png": "[encoded data removed]",
      "text/plain": [
       "<Figure size 1200x900 with 1 Axes>"
      ]
     },
     "metadata": {},
     "output_type": "display_data"
    }
   ],
   "source": [
    "plt.figure(figsize=(12, 9))\n",
    "plt.plot(ytest, label='actual')\n",
    "plt.plot(pred, label='prediction')\n",
    "plt.legend()\n",
    "plt.show()"
   ]
  },
  {
   "cell_type": "raw",
   "id": "b275ab9c",
   "metadata": {},
   "source": []
  },
  {
   "cell_type": "code",
   "execution_count": null,
   "id": "1449f666",
   "metadata": {},
   "outputs": [],
   "source": []
  },
  {
   "cell_type": "code",
   "execution_count": null,
   "id": "2bcf59be",
   "metadata": {},
   "outputs": [],
   "source": [
    "embedding_dim = 10\n",
    "hidden_units = 128\n",
    "\n",
    "model = Sequential()\n",
    "model.add(Embedding(vocab_size, embedding_dim))\n",
    "model.add(LSTM(hidden_units))\n",
    "model.add(Dense(vocab_size, activation='softmax'))\n",
    "model.compile(loss='categorical_crossentropy', optimizer='adam', metrics=['accuracy'])\n",
    "model.fit(X, y, epochs=200, verbose=2)"
   ]
  },
  {
   "cell_type": "code",
   "execution_count": 76,
   "id": "192cbcf8",
   "metadata": {},
   "outputs": [
    {
     "ename": "ValueError",
     "evalue": "non-broadcastable output operand with shape (1165,1) doesn't match the broadcast shape (1165,5)",
     "output_type": "error",
     "traceback": [
      "\u001b[1;31m---------------------------------------------------------------------------\u001b[0m",
      "\u001b[1;31mValueError\u001b[0m                                Traceback (most recent call last)",
      "Cell \u001b[1;32mIn[76], line 1\u001b[0m\n\u001b[1;32m----> 1\u001b[0m scaler\u001b[38;5;241m.\u001b[39minverse_transform(pred)\n",
      "File \u001b[1;32m~\\anaconda3\\Lib\\site-packages\\sklearn\\preprocessing\\_data.py:547\u001b[0m, in \u001b[0;36mMinMaxScaler.inverse_transform\u001b[1;34m(self, X)\u001b[0m\n\u001b[0;32m    541\u001b[0m check_is_fitted(\u001b[38;5;28mself\u001b[39m)\n\u001b[0;32m    543\u001b[0m X \u001b[38;5;241m=\u001b[39m check_array(\n\u001b[0;32m    544\u001b[0m     X, copy\u001b[38;5;241m=\u001b[39m\u001b[38;5;28mself\u001b[39m\u001b[38;5;241m.\u001b[39mcopy, dtype\u001b[38;5;241m=\u001b[39mFLOAT_DTYPES, force_all_finite\u001b[38;5;241m=\u001b[39m\u001b[38;5;124m\"\u001b[39m\u001b[38;5;124mallow-nan\u001b[39m\u001b[38;5;124m\"\u001b[39m\n\u001b[0;32m    545\u001b[0m )\n\u001b[1;32m--> 547\u001b[0m X \u001b[38;5;241m-\u001b[39m\u001b[38;5;241m=\u001b[39m \u001b[38;5;28mself\u001b[39m\u001b[38;5;241m.\u001b[39mmin_\n\u001b[0;32m    548\u001b[0m X \u001b[38;5;241m/\u001b[39m\u001b[38;5;241m=\u001b[39m \u001b[38;5;28mself\u001b[39m\u001b[38;5;241m.\u001b[39mscale_\n\u001b[0;32m    549\u001b[0m \u001b[38;5;28;01mreturn\u001b[39;00m X\n",
      "\u001b[1;31mValueError\u001b[0m: non-broadcastable output operand with shape (1165,1) doesn't match the broadcast shape (1165,5)"
     ]
    }
   ],
   "source": [
    "scaler.inverse_transform(pred)"
   ]
  },
  {
   "cell_type": "code",
   "execution_count": 77,
   "id": "6b6d7fc4",
   "metadata": {},
   "outputs": [
    {
     "data": {
      "text/plain": [
       "array([20272., 20270., 20172., ..., 41550., 44700., 44750.])"
      ]
     },
     "execution_count": 77,
     "metadata": {},
     "output_type": "execute_result"
    }
   ],
   "source": [
    "df = pd.DataFrame(scaled, columns=cols)                            \n",
    "xtrain,xtest,ytrain,ytest = train_test_split(df.drop(\"Close\",axis = 1),df['Close'], test_size=0.2, random_state=0, shuffle=False)\n",
    "vsta = np.hstack([xtest[20:],pred])\n",
    "ans = scaler.inverse_transform(vsta)\n",
    "ans[:,1]\n"
   ]
  },
  {
   "cell_type": "code",
   "execution_count": 78,
   "id": "94cdd655",
   "metadata": {},
   "outputs": [
    {
     "data": {
      "text/html": [
       "<div>\n",
       "<style scoped>\n",
       "    .dataframe tbody tr th:only-of-type {\n",
       "        vertical-align: middle;\n",
       "    }\n",
       "\n",
       "    .dataframe tbody tr th {\n",
       "        vertical-align: top;\n",
       "    }\n",
       "\n",
       "    .dataframe thead th {\n",
       "        text-align: right;\n",
       "    }\n",
       "</style>\n",
       "<table border=\"1\" class=\"dataframe\">\n",
       "  <thead>\n",
       "    <tr style=\"text-align: right;\">\n",
       "      <th></th>\n",
       "      <th>Open</th>\n",
       "      <th>High</th>\n",
       "      <th>Low</th>\n",
       "      <th>Close</th>\n",
       "      <th>Volume</th>\n",
       "    </tr>\n",
       "  </thead>\n",
       "  <tbody>\n",
       "    <tr>\n",
       "      <th>0</th>\n",
       "      <td>0.005808</td>\n",
       "      <td>0.005775</td>\n",
       "      <td>0.006205</td>\n",
       "      <td>0.000000</td>\n",
       "      <td>6.350837e-07</td>\n",
       "    </tr>\n",
       "    <tr>\n",
       "      <th>1</th>\n",
       "      <td>0.006483</td>\n",
       "      <td>0.006445</td>\n",
       "      <td>0.006925</td>\n",
       "      <td>0.000688</td>\n",
       "      <td>7.409310e-06</td>\n",
       "    </tr>\n",
       "    <tr>\n",
       "      <th>2</th>\n",
       "      <td>0.007262</td>\n",
       "      <td>0.007220</td>\n",
       "      <td>0.007758</td>\n",
       "      <td>0.001484</td>\n",
       "      <td>2.143407e-05</td>\n",
       "    </tr>\n",
       "    <tr>\n",
       "      <th>3</th>\n",
       "      <td>0.008116</td>\n",
       "      <td>0.008069</td>\n",
       "      <td>0.008671</td>\n",
       "      <td>0.002356</td>\n",
       "      <td>1.132566e-05</td>\n",
       "    </tr>\n",
       "    <tr>\n",
       "      <th>4</th>\n",
       "      <td>0.009076</td>\n",
       "      <td>0.009023</td>\n",
       "      <td>0.009696</td>\n",
       "      <td>0.003335</td>\n",
       "      <td>1.010842e-05</td>\n",
       "    </tr>\n",
       "    <tr>\n",
       "      <th>...</th>\n",
       "      <td>...</td>\n",
       "      <td>...</td>\n",
       "      <td>...</td>\n",
       "      <td>...</td>\n",
       "      <td>...</td>\n",
       "    </tr>\n",
       "    <tr>\n",
       "      <th>5916</th>\n",
       "      <td>0.220930</td>\n",
       "      <td>0.221387</td>\n",
       "      <td>0.232609</td>\n",
       "      <td>0.217215</td>\n",
       "      <td>6.732379e-02</td>\n",
       "    </tr>\n",
       "    <tr>\n",
       "      <th>5917</th>\n",
       "      <td>0.220930</td>\n",
       "      <td>0.223121</td>\n",
       "      <td>0.235404</td>\n",
       "      <td>0.222853</td>\n",
       "      <td>8.095465e-02</td>\n",
       "    </tr>\n",
       "    <tr>\n",
       "      <th>5918</th>\n",
       "      <td>0.228198</td>\n",
       "      <td>0.240173</td>\n",
       "      <td>0.241615</td>\n",
       "      <td>0.239174</td>\n",
       "      <td>1.945200e-01</td>\n",
       "    </tr>\n",
       "    <tr>\n",
       "      <th>5919</th>\n",
       "      <td>0.250000</td>\n",
       "      <td>0.258382</td>\n",
       "      <td>0.262733</td>\n",
       "      <td>0.259352</td>\n",
       "      <td>2.577927e-01</td>\n",
       "    </tr>\n",
       "    <tr>\n",
       "      <th>5920</th>\n",
       "      <td>0.259884</td>\n",
       "      <td>0.258671</td>\n",
       "      <td>0.266149</td>\n",
       "      <td>0.253714</td>\n",
       "      <td>1.068564e-01</td>\n",
       "    </tr>\n",
       "  </tbody>\n",
       "</table>\n",
       "<p>5921 rows × 5 columns</p>\n",
       "</div>"
      ],
      "text/plain": [
       "          Open      High       Low     Close        Volume\n",
       "0     0.005808  0.005775  0.006205  0.000000  6.350837e-07\n",
       "1     0.006483  0.006445  0.006925  0.000688  7.409310e-06\n",
       "2     0.007262  0.007220  0.007758  0.001484  2.143407e-05\n",
       "3     0.008116  0.008069  0.008671  0.002356  1.132566e-05\n",
       "4     0.009076  0.009023  0.009696  0.003335  1.010842e-05\n",
       "...        ...       ...       ...       ...           ...\n",
       "5916  0.220930  0.221387  0.232609  0.217215  6.732379e-02\n",
       "5917  0.220930  0.223121  0.235404  0.222853  8.095465e-02\n",
       "5918  0.228198  0.240173  0.241615  0.239174  1.945200e-01\n",
       "5919  0.250000  0.258382  0.262733  0.259352  2.577927e-01\n",
       "5920  0.259884  0.258671  0.266149  0.253714  1.068564e-01\n",
       "\n",
       "[5921 rows x 5 columns]"
      ]
     },
     "execution_count": 78,
     "metadata": {},
     "output_type": "execute_result"
    }
   ],
   "source": [
    "df"
   ]
  },
  {
   "cell_type": "code",
   "execution_count": null,
   "id": "28e94e70",
   "metadata": {},
   "outputs": [],
   "source": []
  },
  {
   "cell_type": "code",
   "execution_count": null,
   "id": "d68e9525",
   "metadata": {},
   "outputs": [],
   "source": []
  },
  {
   "cell_type": "code",
   "execution_count": null,
   "id": "688eedc0",
   "metadata": {},
   "outputs": [],
   "source": []
  },
  {
   "cell_type": "code",
   "execution_count": null,
   "id": "14029641",
   "metadata": {},
   "outputs": [],
   "source": []
  },
  {
   "cell_type": "code",
   "execution_count": null,
   "id": "cd720765",
   "metadata": {},
   "outputs": [],
   "source": []
  },
  {
   "cell_type": "code",
   "execution_count": null,
   "id": "edf264ef",
   "metadata": {},
   "outputs": [],
   "source": []
  },
  {
   "cell_type": "code",
   "execution_count": null,
   "id": "8c928255",
   "metadata": {},
   "outputs": [],
   "source": []
  },
  {
   "cell_type": "code",
   "execution_count": null,
   "id": "af6644ab",
   "metadata": {},
   "outputs": [],
   "source": []
  },
  {
   "cell_type": "code",
   "execution_count": null,
   "id": "d9aaf4c6",
   "metadata": {},
   "outputs": [],
   "source": []
  },
  {
   "cell_type": "code",
   "execution_count": null,
   "id": "88c03bdc",
   "metadata": {},
   "outputs": [],
   "source": []
  },
  {
   "cell_type": "code",
   "execution_count": null,
   "id": "3f8963a5",
   "metadata": {},
   "outputs": [],
   "source": []
  },
  {
   "cell_type": "code",
   "execution_count": null,
   "id": "15cfc201",
   "metadata": {},
   "outputs": [],
   "source": []
  },
  {
   "cell_type": "code",
   "execution_count": null,
   "id": "414e42c1",
   "metadata": {},
   "outputs": [],
   "source": []
  },
  {
   "cell_type": "code",
   "execution_count": null,
   "id": "1d6c2bd2",
   "metadata": {},
   "outputs": [],
   "source": []
  },
  {
   "cell_type": "code",
   "execution_count": null,
   "id": "e4b2c9c6",
   "metadata": {},
   "outputs": [],
   "source": []
  },
  {
   "cell_type": "code",
   "execution_count": null,
   "id": "f2f92028",
   "metadata": {},
   "outputs": [],
   "source": []
  },
  {
   "cell_type": "code",
   "execution_count": null,
   "id": "12f48621",
   "metadata": {},
   "outputs": [],
   "source": []
  },
  {
   "cell_type": "code",
   "execution_count": null,
   "id": "c54513ed",
   "metadata": {},
   "outputs": [],
   "source": []
  },
  {
   "cell_type": "code",
   "execution_count": null,
   "id": "26bba9de",
   "metadata": {},
   "outputs": [],
   "source": []
  },
  {
   "cell_type": "code",
   "execution_count": null,
   "id": "953319d3",
   "metadata": {},
   "outputs": [],
   "source": []
  },
  {
   "cell_type": "code",
   "execution_count": null,
   "id": "19bfdafc",
   "metadata": {},
   "outputs": [],
   "source": []
  },
  {
   "cell_type": "code",
   "execution_count": null,
   "id": "27e0924e",
   "metadata": {},
   "outputs": [],
   "source": []
  },
  {
   "cell_type": "code",
   "execution_count": null,
   "id": "412e083a",
   "metadata": {},
   "outputs": [],
   "source": []
  },
  {
   "cell_type": "code",
   "execution_count": null,
   "id": "d15d7e51",
   "metadata": {},
   "outputs": [],
   "source": []
  },
  {
   "cell_type": "code",
   "execution_count": null,
   "id": "8884e0c6",
   "metadata": {},
   "outputs": [],
   "source": []
  },
  {
   "cell_type": "code",
   "execution_count": null,
   "id": "65511c02",
   "metadata": {},
   "outputs": [],
   "source": []
  },
  {
   "cell_type": "code",
   "execution_count": null,
   "id": "d65efc89",
   "metadata": {},
   "outputs": [],
   "source": []
  },
  {
   "cell_type": "code",
   "execution_count": null,
   "id": "a53bcfcc",
   "metadata": {},
   "outputs": [],
   "source": []
  },
  {
   "cell_type": "code",
   "execution_count": null,
   "id": "5de5a413",
   "metadata": {},
   "outputs": [],
   "source": []
  },
  {
   "cell_type": "code",
   "execution_count": null,
   "id": "438c37b7",
   "metadata": {},
   "outputs": [],
   "source": []
  },
  {
   "cell_type": "code",
   "execution_count": null,
   "id": "2619ace4",
   "metadata": {},
   "outputs": [],
   "source": []
  },
  {
   "cell_type": "code",
   "execution_count": null,
   "id": "ad019bf4",
   "metadata": {},
   "outputs": [],
   "source": []
  },
  {
   "cell_type": "code",
   "execution_count": null,
   "id": "ee9b3694",
   "metadata": {},
   "outputs": [],
   "source": []
  },
  {
   "cell_type": "code",
   "execution_count": null,
   "id": "eaabdd70",
   "metadata": {},
   "outputs": [],
   "source": []
  },
  {
   "cell_type": "code",
   "execution_count": null,
   "id": "fd9f8745",
   "metadata": {},
   "outputs": [],
   "source": []
  },
  {
   "cell_type": "code",
   "execution_count": null,
   "id": "503c0f4e",
   "metadata": {},
   "outputs": [],
   "source": []
  }
 ],
 "metadata": {
  "kernelspec": {
   "display_name": "Python 3 (ipykernel)",
   "language": "python",
   "name": "python3"
  },
  "language_info": {
   "codemirror_mode": {
    "name": "ipython",
    "version": 3
   },
   "file_extension": ".py",
   "mimetype": "text/x-python",
   "name": "python",
   "nbconvert_exporter": "python",
   "pygments_lexer": "ipython3",
   "version": "3.11.4"
  }
 },
 "nbformat": 4,
 "nbformat_minor": 5
}
