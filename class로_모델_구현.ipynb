{
  "nbformat": 4,
  "nbformat_minor": 0,
  "metadata": {
    "colab": {
      "provenance": []
    },
    "kernelspec": {
      "name": "python3",
      "display_name": "Python 3"
    },
    "language_info": {
      "name": "python"
    },
    "accelerator": "TPU"
  },
  "cells": [
    {
      "cell_type": "code",
      "execution_count": 1,
      "metadata": {
        "id": "4A18mEWyY1AA"
      },
      "outputs": [],
      "source": [
        "#클래스로 모델을 구현해보자"
      ]
    },
    {
      "cell_type": "code",
      "source": [
        "#model=nn,Linear(1,1) 입력 1차원,출력 1차원  ->어제는 이런식으로 구현\n",
        "\n",
        "\n"
      ],
      "metadata": {
        "id": "0BR3UTXGnJzr"
      },
      "execution_count": 2,
      "outputs": []
    },
    {
      "cell_type": "code",
      "source": [
        "#상속:객체지향적 프로그래밍에서 가장 중요한 언어\n",
        "#클래스에도 부모와 자식처럼 관계가 있다. 그리고 그 둘 사이에는 상속 관계가 있음\n",
        "\n"
      ],
      "metadata": {
        "id": "Xa6udW8Xnf5D"
      },
      "execution_count": 3,
      "outputs": []
    },
    {
      "cell_type": "markdown",
      "source": [
        "붕어빵기계(클래스)\n",
        "\n",
        "잉어빵기계\n",
        "\n",
        "\n",
        "무엇을 하면 편하고 안정적으로 잉어빵기계를 만들 수 있을까\n",
        "\n",
        "상속을 받는 것을 잉어빵기계라고 함(자식 클래스)\n",
        "\n",
        "\n",
        "붕어빵기계(부모 클래스: 메서드,속성 , 내부클래스 등이 부모클래스 내부에 있다)\n",
        "\n",
        "상속\n",
        "\n",
        "잉어빵기계(자식 클래스)\n",
        "\n",
        "\n",
        "붕어빵을 만들 때 중요한 것=>너비,높이,내용,굽는다 등등.. 붕어빵 기계가 가진 특징들\n",
        "\n",
        "너비=10, 높이=5, 내용물=단팥, 굽는다(1분)\n",
        "붕어빵기계를 이렇게 만들었다고 치면\n",
        "\n",
        "내부의 속성을 조금씩 변경해서 잉어빵 기계에게 상속해줄 수 있다.\n",
        "\n",
        "이걸 release한다 라고 한다.\n",
        "\n",
        "개발 용어중에 agile기법이라는 것이 있는데 일단 허접하더라도 빠르게 만든다는 뜻이다. (시장을 선점하려면 시기적절할 때 빠르게 배포해야 하므로 time to market)\n",
        "\n",
        "요구분석 설계 구현 테스트 배포 유지보수\n",
        "\n",
        "붕어빵 기계를 설계할 때 확장하기 용이한 형태로 만드는 것이 좋다->abstract추상화\n",
        "\n",
        "\n",
        "예)\n",
        "\n",
        "동물(부모):먹는다, 잔다\n",
        "파충류,양서류,포유류,조류....\n",
        "\n",
        "뱀, 개구리 ... 사람(먹는다->씹어먹는다(메서드))\n",
        "\n",
        "독사,살모사,,,\n",
        "\n",
        "\n",
        "동물이 가지고 있는 속성들이 아래 동물들에게 전달됨\n",
        "예)먹는다,잔다는 동물의 특성이므로 아래 동물들에게 상속됨\n",
        "\n",
        "이런식으로 설계하는 것\n",
        "\n",
        "만약에 동물의 특성에 공부한다를 넣으면 아래 동물들의 특성에도 들어가므로\n",
        "잘못 설계된 것이다\n",
        "\n",
        "부모 클래스(상위 클래스)로 올라가면 올라갈수록 특성이 추상화된다\n",
        "예를 들어 코를 골며 잔다는 다른 동물들의 특성에 들어가는 것은 올바르지 않으므로\n",
        "그냥 잔다 라고 표현\n",
        "\n",
        "사람이 먹는다라는 메서드를 상속받고 이걸 씹어먹는다로 재정의한다\n",
        "=> overriding 이라고 함. (중요)\n",
        "\n"
      ],
      "metadata": {
        "id": "4gApwSm8nvGm"
      }
    },
    {
      "cell_type": "code",
      "source": [
        "#클래스 정의하기"
      ],
      "metadata": {
        "id": "_e_HN_A1nueW"
      },
      "execution_count": 4,
      "outputs": []
    },
    {
      "cell_type": "code",
      "source": [
        "import torch.nn as nn\n",
        "import torch\n",
        "import torch.nn as nn\n",
        "import torch.nn.functional as F"
      ],
      "metadata": {
        "id": "rhEjX2OKtqwg"
      },
      "execution_count": 14,
      "outputs": []
    },
    {
      "cell_type": "code",
      "source": [
        "class LinearRegressionModel(nn.Module): #부모 : Module\n",
        "  def __init__(self): #객체가 생성될 때 자동으로 호출되는 함수. 여기서 객체는 클래스로부터 생성되는 실체.LinearRegressionModel 클래스 겍체가 생성될 때 자동 호출\n",
        "        super().__init__() #super -> 부모(nn.Module)를 말함 . 부모 객체가 만들어짐. 부모 클래스의 속성이 초기화됨\n",
        "        self.linear=nn.Linear(1,1) #input dim =1, output dim =1 의미\n",
        "\n",
        "  def forward(self, x): #단순 선형회귀 모델을 클래스로 정의하려고함\n",
        "      return self.linear(x)\n"
      ],
      "metadata": {
        "id": "JZABb3gksejI"
      },
      "execution_count": 17,
      "outputs": []
    },
    {
      "cell_type": "code",
      "source": [
        "LinearRegressionModel() #객체 생성"
      ],
      "metadata": {
        "colab": {
          "base_uri": "https://localhost:8080/"
        },
        "id": "NfuLTT1hsgM2",
        "outputId": "74064d2b-832d-4440-8b73-527b61e8c102"
      },
      "execution_count": 18,
      "outputs": [
        {
          "output_type": "execute_result",
          "data": {
            "text/plain": [
              "LinearRegressionModel(\n",
              "  (linear): Linear(in_features=1, out_features=1, bias=True)\n",
              ")"
            ]
          },
          "metadata": {},
          "execution_count": 18
        }
      ]
    },
    {
      "cell_type": "code",
      "source": [
        "x_train = torch.FloatTensor([[1], [2], [3]]) #1차원 구조 입력데이터. 데이터 3건 있음\n",
        "y_train = torch.FloatTensor([[2], [4], [6]]) #1차원 구조. 예측하고자 하는 값"
      ],
      "metadata": {
        "id": "Z_Q7Oyi9t1S3"
      },
      "execution_count": 19,
      "outputs": []
    },
    {
      "cell_type": "code",
      "source": [
        "model=LinearRegressionModel()\n",
        "#init가 호출됨과 동시에 부모 클래스의 속성도 전달됐을 것이다.\n",
        "#생성된 객체 자신을 self라고 부르고 있는 것.\n",
        "#self는 붕어빵을 말함"
      ],
      "metadata": {
        "id": "z-M9tFRrzHp4"
      },
      "execution_count": 20,
      "outputs": []
    },
    {
      "cell_type": "code",
      "source": [],
      "metadata": {
        "id": "Rv1um8VYzgEc"
      },
      "execution_count": null,
      "outputs": []
    }
  ]
}