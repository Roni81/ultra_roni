{
 "cells": [
  {
   "cell_type": "code",
   "execution_count": 158,
   "id": "72072376",
   "metadata": {},
   "outputs": [],
   "source": [
    "import pandas as pd\n",
    "import numpy as np\n",
    "import matplotlib.pyplot as plt\n",
    "import seaborn as sns"
   ]
  },
  {
   "cell_type": "code",
   "execution_count": 159,
   "id": "5d4c17ba",
   "metadata": {},
   "outputs": [],
   "source": [
    "import FinanceDataReader as fdr"
   ]
  },
  {
   "cell_type": "code",
   "execution_count": 160,
   "id": "f0ae5a55",
   "metadata": {},
   "outputs": [
    {
     "name": "stdout",
     "output_type": "stream",
     "text": [
      "Defaulting to user installation because normal site-packages is not writeable\n",
      "Requirement already satisfied: finance-datareader in c:\\users\\user\\appdata\\roaming\\python\\python311\\site-packages (0.9.50)\n",
      "Requirement already satisfied: pandas>=0.19.2 in c:\\programdata\\anaconda3\\lib\\site-packages (from finance-datareader) (1.5.3)\n",
      "Requirement already satisfied: requests>=2.3.0 in c:\\programdata\\anaconda3\\lib\\site-packages (from finance-datareader) (2.31.0)\n",
      "Requirement already satisfied: requests-file in c:\\programdata\\anaconda3\\lib\\site-packages (from finance-datareader) (1.5.1)\n",
      "Requirement already satisfied: lxml in c:\\programdata\\anaconda3\\lib\\site-packages (from finance-datareader) (4.9.2)\n",
      "Requirement already satisfied: tqdm in c:\\programdata\\anaconda3\\lib\\site-packages (from finance-datareader) (4.65.0)\n",
      "Requirement already satisfied: python-dateutil>=2.8.1 in c:\\programdata\\anaconda3\\lib\\site-packages (from pandas>=0.19.2->finance-datareader) (2.8.2)\n",
      "Requirement already satisfied: pytz>=2020.1 in c:\\programdata\\anaconda3\\lib\\site-packages (from pandas>=0.19.2->finance-datareader) (2022.7)\n",
      "Requirement already satisfied: numpy>=1.21.0 in c:\\programdata\\anaconda3\\lib\\site-packages (from pandas>=0.19.2->finance-datareader) (1.24.3)\n",
      "Requirement already satisfied: charset-normalizer<4,>=2 in c:\\programdata\\anaconda3\\lib\\site-packages (from requests>=2.3.0->finance-datareader) (2.0.4)\n",
      "Requirement already satisfied: idna<4,>=2.5 in c:\\programdata\\anaconda3\\lib\\site-packages (from requests>=2.3.0->finance-datareader) (3.4)\n",
      "Requirement already satisfied: urllib3<3,>=1.21.1 in c:\\programdata\\anaconda3\\lib\\site-packages (from requests>=2.3.0->finance-datareader) (1.26.16)\n",
      "Requirement already satisfied: certifi>=2017.4.17 in c:\\programdata\\anaconda3\\lib\\site-packages (from requests>=2.3.0->finance-datareader) (2023.7.22)\n",
      "Requirement already satisfied: six in c:\\programdata\\anaconda3\\lib\\site-packages (from requests-file->finance-datareader) (1.16.0)\n",
      "Requirement already satisfied: colorama in c:\\programdata\\anaconda3\\lib\\site-packages (from tqdm->finance-datareader) (0.4.6)\n",
      "Note: you may need to restart the kernel to use updated packages.\n"
     ]
    }
   ],
   "source": [
    "pip install finance-datareader"
   ]
  },
  {
   "cell_type": "code",
   "execution_count": 161,
   "id": "9b531cfa",
   "metadata": {},
   "outputs": [],
   "source": [
    "isupeta = fdr.DataReader('007660')"
   ]
  },
  {
   "cell_type": "code",
   "execution_count": 162,
   "id": "9cd83c3f",
   "metadata": {},
   "outputs": [
    {
     "data": {
      "text/html": [
       "<div>\n",
       "<style scoped>\n",
       "    .dataframe tbody tr th:only-of-type {\n",
       "        vertical-align: middle;\n",
       "    }\n",
       "\n",
       "    .dataframe tbody tr th {\n",
       "        vertical-align: top;\n",
       "    }\n",
       "\n",
       "    .dataframe thead th {\n",
       "        text-align: right;\n",
       "    }\n",
       "</style>\n",
       "<table border=\"1\" class=\"dataframe\">\n",
       "  <thead>\n",
       "    <tr style=\"text-align: right;\">\n",
       "      <th></th>\n",
       "      <th>Open</th>\n",
       "      <th>High</th>\n",
       "      <th>Low</th>\n",
       "      <th>Close</th>\n",
       "      <th>Volume</th>\n",
       "      <th>Change</th>\n",
       "    </tr>\n",
       "    <tr>\n",
       "      <th>Date</th>\n",
       "      <th></th>\n",
       "      <th></th>\n",
       "      <th></th>\n",
       "      <th></th>\n",
       "      <th></th>\n",
       "      <th></th>\n",
       "    </tr>\n",
       "  </thead>\n",
       "  <tbody>\n",
       "    <tr>\n",
       "      <th>2000-08-22</th>\n",
       "      <td>4000</td>\n",
       "      <td>4000</td>\n",
       "      <td>4000</td>\n",
       "      <td>4000</td>\n",
       "      <td>885361</td>\n",
       "      <td>NaN</td>\n",
       "    </tr>\n",
       "    <tr>\n",
       "      <th>2000-08-23</th>\n",
       "      <td>4200</td>\n",
       "      <td>4480</td>\n",
       "      <td>4200</td>\n",
       "      <td>4480</td>\n",
       "      <td>643906</td>\n",
       "      <td>0.120000</td>\n",
       "    </tr>\n",
       "    <tr>\n",
       "      <th>2000-08-24</th>\n",
       "      <td>5010</td>\n",
       "      <td>5010</td>\n",
       "      <td>4480</td>\n",
       "      <td>4700</td>\n",
       "      <td>5496944</td>\n",
       "      <td>0.049107</td>\n",
       "    </tr>\n",
       "    <tr>\n",
       "      <th>2000-08-25</th>\n",
       "      <td>4600</td>\n",
       "      <td>4600</td>\n",
       "      <td>4140</td>\n",
       "      <td>4140</td>\n",
       "      <td>2023817</td>\n",
       "      <td>-0.119149</td>\n",
       "    </tr>\n",
       "    <tr>\n",
       "      <th>2000-08-28</th>\n",
       "      <td>4100</td>\n",
       "      <td>4180</td>\n",
       "      <td>3800</td>\n",
       "      <td>3900</td>\n",
       "      <td>2892382</td>\n",
       "      <td>-0.057971</td>\n",
       "    </tr>\n",
       "    <tr>\n",
       "      <th>...</th>\n",
       "      <td>...</td>\n",
       "      <td>...</td>\n",
       "      <td>...</td>\n",
       "      <td>...</td>\n",
       "      <td>...</td>\n",
       "      <td>...</td>\n",
       "    </tr>\n",
       "    <tr>\n",
       "      <th>2023-11-01</th>\n",
       "      <td>22000</td>\n",
       "      <td>22100</td>\n",
       "      <td>21150</td>\n",
       "      <td>21550</td>\n",
       "      <td>965734</td>\n",
       "      <td>-0.004619</td>\n",
       "    </tr>\n",
       "    <tr>\n",
       "      <th>2023-11-02</th>\n",
       "      <td>22800</td>\n",
       "      <td>24100</td>\n",
       "      <td>22500</td>\n",
       "      <td>23900</td>\n",
       "      <td>2358561</td>\n",
       "      <td>0.109049</td>\n",
       "    </tr>\n",
       "    <tr>\n",
       "      <th>2023-11-03</th>\n",
       "      <td>24600</td>\n",
       "      <td>24950</td>\n",
       "      <td>23450</td>\n",
       "      <td>23700</td>\n",
       "      <td>1261462</td>\n",
       "      <td>-0.008368</td>\n",
       "    </tr>\n",
       "    <tr>\n",
       "      <th>2023-11-06</th>\n",
       "      <td>24800</td>\n",
       "      <td>25800</td>\n",
       "      <td>24050</td>\n",
       "      <td>25800</td>\n",
       "      <td>2095337</td>\n",
       "      <td>0.088608</td>\n",
       "    </tr>\n",
       "    <tr>\n",
       "      <th>2023-11-07</th>\n",
       "      <td>25950</td>\n",
       "      <td>28400</td>\n",
       "      <td>25050</td>\n",
       "      <td>26750</td>\n",
       "      <td>4122600</td>\n",
       "      <td>0.036822</td>\n",
       "    </tr>\n",
       "  </tbody>\n",
       "</table>\n",
       "<p>5732 rows × 6 columns</p>\n",
       "</div>"
      ],
      "text/plain": [
       "             Open   High    Low  Close   Volume    Change\n",
       "Date                                                     \n",
       "2000-08-22   4000   4000   4000   4000   885361       NaN\n",
       "2000-08-23   4200   4480   4200   4480   643906  0.120000\n",
       "2000-08-24   5010   5010   4480   4700  5496944  0.049107\n",
       "2000-08-25   4600   4600   4140   4140  2023817 -0.119149\n",
       "2000-08-28   4100   4180   3800   3900  2892382 -0.057971\n",
       "...           ...    ...    ...    ...      ...       ...\n",
       "2023-11-01  22000  22100  21150  21550   965734 -0.004619\n",
       "2023-11-02  22800  24100  22500  23900  2358561  0.109049\n",
       "2023-11-03  24600  24950  23450  23700  1261462 -0.008368\n",
       "2023-11-06  24800  25800  24050  25800  2095337  0.088608\n",
       "2023-11-07  25950  28400  25050  26750  4122600  0.036822\n",
       "\n",
       "[5732 rows x 6 columns]"
      ]
     },
     "execution_count": 162,
     "metadata": {},
     "output_type": "execute_result"
    }
   ],
   "source": [
    "isupeta"
   ]
  },
  {
   "cell_type": "code",
   "execution_count": 163,
   "id": "4b6aa2ac",
   "metadata": {},
   "outputs": [
    {
     "data": {
      "text/html": [
       "<div>\n",
       "<style scoped>\n",
       "    .dataframe tbody tr th:only-of-type {\n",
       "        vertical-align: middle;\n",
       "    }\n",
       "\n",
       "    .dataframe tbody tr th {\n",
       "        vertical-align: top;\n",
       "    }\n",
       "\n",
       "    .dataframe thead th {\n",
       "        text-align: right;\n",
       "    }\n",
       "</style>\n",
       "<table border=\"1\" class=\"dataframe\">\n",
       "  <thead>\n",
       "    <tr style=\"text-align: right;\">\n",
       "      <th></th>\n",
       "      <th>Open</th>\n",
       "      <th>High</th>\n",
       "      <th>Low</th>\n",
       "      <th>Close</th>\n",
       "      <th>Adj Close</th>\n",
       "      <th>Volume</th>\n",
       "    </tr>\n",
       "    <tr>\n",
       "      <th>Date</th>\n",
       "      <th></th>\n",
       "      <th></th>\n",
       "      <th></th>\n",
       "      <th></th>\n",
       "      <th></th>\n",
       "      <th></th>\n",
       "    </tr>\n",
       "  </thead>\n",
       "  <tbody>\n",
       "    <tr>\n",
       "      <th>1981-01-02</th>\n",
       "      <td>0.154018</td>\n",
       "      <td>0.155134</td>\n",
       "      <td>0.154018</td>\n",
       "      <td>0.154018</td>\n",
       "      <td>0.119340</td>\n",
       "      <td>21660800</td>\n",
       "    </tr>\n",
       "    <tr>\n",
       "      <th>1981-01-05</th>\n",
       "      <td>0.151228</td>\n",
       "      <td>0.151228</td>\n",
       "      <td>0.150670</td>\n",
       "      <td>0.150670</td>\n",
       "      <td>0.116746</td>\n",
       "      <td>35728000</td>\n",
       "    </tr>\n",
       "    <tr>\n",
       "      <th>1981-01-06</th>\n",
       "      <td>0.144531</td>\n",
       "      <td>0.144531</td>\n",
       "      <td>0.143973</td>\n",
       "      <td>0.143973</td>\n",
       "      <td>0.111556</td>\n",
       "      <td>45158400</td>\n",
       "    </tr>\n",
       "    <tr>\n",
       "      <th>1981-01-07</th>\n",
       "      <td>0.138393</td>\n",
       "      <td>0.138393</td>\n",
       "      <td>0.137835</td>\n",
       "      <td>0.137835</td>\n",
       "      <td>0.106800</td>\n",
       "      <td>55686400</td>\n",
       "    </tr>\n",
       "    <tr>\n",
       "      <th>1981-01-08</th>\n",
       "      <td>0.135603</td>\n",
       "      <td>0.135603</td>\n",
       "      <td>0.135045</td>\n",
       "      <td>0.135045</td>\n",
       "      <td>0.104639</td>\n",
       "      <td>39827200</td>\n",
       "    </tr>\n",
       "    <tr>\n",
       "      <th>...</th>\n",
       "      <td>...</td>\n",
       "      <td>...</td>\n",
       "      <td>...</td>\n",
       "      <td>...</td>\n",
       "      <td>...</td>\n",
       "      <td>...</td>\n",
       "    </tr>\n",
       "    <tr>\n",
       "      <th>1982-10-25</th>\n",
       "      <td>0.115513</td>\n",
       "      <td>0.116071</td>\n",
       "      <td>0.108259</td>\n",
       "      <td>0.108817</td>\n",
       "      <td>0.084316</td>\n",
       "      <td>184934400</td>\n",
       "    </tr>\n",
       "    <tr>\n",
       "      <th>1982-10-26</th>\n",
       "      <td>0.108817</td>\n",
       "      <td>0.109933</td>\n",
       "      <td>0.103795</td>\n",
       "      <td>0.109375</td>\n",
       "      <td>0.084748</td>\n",
       "      <td>167753600</td>\n",
       "    </tr>\n",
       "    <tr>\n",
       "      <th>1982-10-27</th>\n",
       "      <td>0.109375</td>\n",
       "      <td>0.112723</td>\n",
       "      <td>0.109375</td>\n",
       "      <td>0.112165</td>\n",
       "      <td>0.086910</td>\n",
       "      <td>191161600</td>\n",
       "    </tr>\n",
       "    <tr>\n",
       "      <th>1982-10-28</th>\n",
       "      <td>0.112165</td>\n",
       "      <td>0.113281</td>\n",
       "      <td>0.110491</td>\n",
       "      <td>0.112165</td>\n",
       "      <td>0.086910</td>\n",
       "      <td>217683200</td>\n",
       "    </tr>\n",
       "    <tr>\n",
       "      <th>1982-10-29</th>\n",
       "      <td>0.112165</td>\n",
       "      <td>0.113281</td>\n",
       "      <td>0.110491</td>\n",
       "      <td>0.113281</td>\n",
       "      <td>0.087775</td>\n",
       "      <td>118115200</td>\n",
       "    </tr>\n",
       "  </tbody>\n",
       "</table>\n",
       "<p>463 rows × 6 columns</p>\n",
       "</div>"
      ],
      "text/plain": [
       "                Open      High       Low     Close  Adj Close     Volume\n",
       "Date                                                                    \n",
       "1981-01-02  0.154018  0.155134  0.154018  0.154018   0.119340   21660800\n",
       "1981-01-05  0.151228  0.151228  0.150670  0.150670   0.116746   35728000\n",
       "1981-01-06  0.144531  0.144531  0.143973  0.143973   0.111556   45158400\n",
       "1981-01-07  0.138393  0.138393  0.137835  0.137835   0.106800   55686400\n",
       "1981-01-08  0.135603  0.135603  0.135045  0.135045   0.104639   39827200\n",
       "...              ...       ...       ...       ...        ...        ...\n",
       "1982-10-25  0.115513  0.116071  0.108259  0.108817   0.084316  184934400\n",
       "1982-10-26  0.108817  0.109933  0.103795  0.109375   0.084748  167753600\n",
       "1982-10-27  0.109375  0.112723  0.109375  0.112165   0.086910  191161600\n",
       "1982-10-28  0.112165  0.113281  0.110491  0.112165   0.086910  217683200\n",
       "1982-10-29  0.112165  0.113281  0.110491  0.113281   0.087775  118115200\n",
       "\n",
       "[463 rows x 6 columns]"
      ]
     },
     "execution_count": 163,
     "metadata": {},
     "output_type": "execute_result"
    }
   ],
   "source": [
    "fdr.DataReader('AAPL', '1981-01-01', '1982-10-31')"
   ]
  },
  {
   "cell_type": "code",
   "execution_count": 164,
   "id": "52afd494",
   "metadata": {},
   "outputs": [
    {
     "data": {
      "text/html": [
       "<div>\n",
       "<style scoped>\n",
       "    .dataframe tbody tr th:only-of-type {\n",
       "        vertical-align: middle;\n",
       "    }\n",
       "\n",
       "    .dataframe tbody tr th {\n",
       "        vertical-align: top;\n",
       "    }\n",
       "\n",
       "    .dataframe thead th {\n",
       "        text-align: right;\n",
       "    }\n",
       "</style>\n",
       "<table border=\"1\" class=\"dataframe\">\n",
       "  <thead>\n",
       "    <tr style=\"text-align: right;\">\n",
       "      <th></th>\n",
       "      <th>Open</th>\n",
       "      <th>High</th>\n",
       "      <th>Low</th>\n",
       "      <th>Close</th>\n",
       "      <th>Adj Close</th>\n",
       "      <th>Volume</th>\n",
       "    </tr>\n",
       "    <tr>\n",
       "      <th>Date</th>\n",
       "      <th></th>\n",
       "      <th></th>\n",
       "      <th></th>\n",
       "      <th></th>\n",
       "      <th></th>\n",
       "      <th></th>\n",
       "    </tr>\n",
       "  </thead>\n",
       "  <tbody>\n",
       "    <tr>\n",
       "      <th>2014-09-17</th>\n",
       "      <td>4.826118e+05</td>\n",
       "      <td>4.838110e+05</td>\n",
       "      <td>4.681210e+05</td>\n",
       "      <td>4.732035e+05</td>\n",
       "      <td>4.732035e+05</td>\n",
       "      <td>21787470960</td>\n",
       "    </tr>\n",
       "    <tr>\n",
       "      <th>2014-09-18</th>\n",
       "      <td>4.727130e+05</td>\n",
       "      <td>4.762765e+05</td>\n",
       "      <td>4.309914e+05</td>\n",
       "      <td>4.428182e+05</td>\n",
       "      <td>4.428182e+05</td>\n",
       "      <td>35976322560</td>\n",
       "    </tr>\n",
       "    <tr>\n",
       "      <th>2014-09-19</th>\n",
       "      <td>4.424667e+05</td>\n",
       "      <td>4.475154e+05</td>\n",
       "      <td>4.012784e+05</td>\n",
       "      <td>4.119893e+05</td>\n",
       "      <td>4.119893e+05</td>\n",
       "      <td>39571102935</td>\n",
       "    </tr>\n",
       "    <tr>\n",
       "      <th>2014-09-20</th>\n",
       "      <td>4.118610e+05</td>\n",
       "      <td>4.417305e+05</td>\n",
       "      <td>4.068624e+05</td>\n",
       "      <td>4.267118e+05</td>\n",
       "      <td>4.267118e+05</td>\n",
       "      <td>38469009780</td>\n",
       "    </tr>\n",
       "    <tr>\n",
       "      <th>2014-09-21</th>\n",
       "      <td>4.258571e+05</td>\n",
       "      <td>4.303872e+05</td>\n",
       "      <td>4.103040e+05</td>\n",
       "      <td>4.161897e+05</td>\n",
       "      <td>4.161897e+05</td>\n",
       "      <td>27737663355</td>\n",
       "    </tr>\n",
       "    <tr>\n",
       "      <th>...</th>\n",
       "      <td>...</td>\n",
       "      <td>...</td>\n",
       "      <td>...</td>\n",
       "      <td>...</td>\n",
       "      <td>...</td>\n",
       "      <td>...</td>\n",
       "    </tr>\n",
       "    <tr>\n",
       "      <th>2023-11-03</th>\n",
       "      <td>4.778487e+07</td>\n",
       "      <td>4.818440e+07</td>\n",
       "      <td>4.589860e+07</td>\n",
       "      <td>4.661862e+07</td>\n",
       "      <td>4.661862e+07</td>\n",
       "      <td>28018157917905</td>\n",
       "    </tr>\n",
       "    <tr>\n",
       "      <th>2023-11-04</th>\n",
       "      <td>4.662427e+07</td>\n",
       "      <td>4.662427e+07</td>\n",
       "      <td>4.500898e+07</td>\n",
       "      <td>4.546514e+07</td>\n",
       "      <td>4.546514e+07</td>\n",
       "      <td>22460677199165</td>\n",
       "    </tr>\n",
       "    <tr>\n",
       "      <th>2023-11-05</th>\n",
       "      <td>4.547037e+07</td>\n",
       "      <td>4.615068e+07</td>\n",
       "      <td>4.531377e+07</td>\n",
       "      <td>4.592312e+07</td>\n",
       "      <td>4.592312e+07</td>\n",
       "      <td>12515877610681</td>\n",
       "    </tr>\n",
       "    <tr>\n",
       "      <th>2023-11-06</th>\n",
       "      <td>4.593335e+07</td>\n",
       "      <td>4.625776e+07</td>\n",
       "      <td>4.528438e+07</td>\n",
       "      <td>4.587688e+07</td>\n",
       "      <td>4.587688e+07</td>\n",
       "      <td>16247317395243</td>\n",
       "    </tr>\n",
       "    <tr>\n",
       "      <th>2023-11-07</th>\n",
       "      <td>4.551226e+07</td>\n",
       "      <td>4.551226e+07</td>\n",
       "      <td>4.519122e+07</td>\n",
       "      <td>4.534584e+07</td>\n",
       "      <td>4.534584e+07</td>\n",
       "      <td>17470427496448</td>\n",
       "    </tr>\n",
       "  </tbody>\n",
       "</table>\n",
       "<p>3339 rows × 6 columns</p>\n",
       "</div>"
      ],
      "text/plain": [
       "                    Open          High           Low         Close  \\\n",
       "Date                                                                 \n",
       "2014-09-17  4.826118e+05  4.838110e+05  4.681210e+05  4.732035e+05   \n",
       "2014-09-18  4.727130e+05  4.762765e+05  4.309914e+05  4.428182e+05   \n",
       "2014-09-19  4.424667e+05  4.475154e+05  4.012784e+05  4.119893e+05   \n",
       "2014-09-20  4.118610e+05  4.417305e+05  4.068624e+05  4.267118e+05   \n",
       "2014-09-21  4.258571e+05  4.303872e+05  4.103040e+05  4.161897e+05   \n",
       "...                  ...           ...           ...           ...   \n",
       "2023-11-03  4.778487e+07  4.818440e+07  4.589860e+07  4.661862e+07   \n",
       "2023-11-04  4.662427e+07  4.662427e+07  4.500898e+07  4.546514e+07   \n",
       "2023-11-05  4.547037e+07  4.615068e+07  4.531377e+07  4.592312e+07   \n",
       "2023-11-06  4.593335e+07  4.625776e+07  4.528438e+07  4.587688e+07   \n",
       "2023-11-07  4.551226e+07  4.551226e+07  4.519122e+07  4.534584e+07   \n",
       "\n",
       "               Adj Close          Volume  \n",
       "Date                                      \n",
       "2014-09-17  4.732035e+05     21787470960  \n",
       "2014-09-18  4.428182e+05     35976322560  \n",
       "2014-09-19  4.119893e+05     39571102935  \n",
       "2014-09-20  4.267118e+05     38469009780  \n",
       "2014-09-21  4.161897e+05     27737663355  \n",
       "...                  ...             ...  \n",
       "2023-11-03  4.661862e+07  28018157917905  \n",
       "2023-11-04  4.546514e+07  22460677199165  \n",
       "2023-11-05  4.592312e+07  12515877610681  \n",
       "2023-11-06  4.587688e+07  16247317395243  \n",
       "2023-11-07  4.534584e+07  17470427496448  \n",
       "\n",
       "[3339 rows x 6 columns]"
      ]
     },
     "execution_count": 164,
     "metadata": {},
     "output_type": "execute_result"
    }
   ],
   "source": [
    "fdr.DataReader('BTC/KRW')"
   ]
  },
  {
   "cell_type": "code",
   "execution_count": 165,
   "id": "4d5a03a1",
   "metadata": {},
   "outputs": [
    {
     "data": {
      "text/plain": [
       "DatetimeIndex(['2000-08-22', '2000-08-23', '2000-08-24', '2000-08-25',\n",
       "               '2000-08-28', '2000-08-29', '2000-08-30', '2000-08-31',\n",
       "               '2000-09-01', '2000-09-04',\n",
       "               ...\n",
       "               '2023-10-25', '2023-10-26', '2023-10-27', '2023-10-30',\n",
       "               '2023-10-31', '2023-11-01', '2023-11-02', '2023-11-03',\n",
       "               '2023-11-06', '2023-11-07'],\n",
       "              dtype='datetime64[ns]', name='Date', length=5732, freq=None)"
      ]
     },
     "execution_count": 165,
     "metadata": {},
     "output_type": "execute_result"
    }
   ],
   "source": [
    "isupeta.index"
   ]
  },
  {
   "cell_type": "code",
   "execution_count": 166,
   "id": "96fabb61",
   "metadata": {},
   "outputs": [],
   "source": [
    "isupeta['year'] = isupeta.index.year\n",
    "isupeta['month'] = isupeta.index.month\n",
    "isupeta['day'] = isupeta.index.day"
   ]
  },
  {
   "cell_type": "code",
   "execution_count": 167,
   "id": "2f3740c9",
   "metadata": {},
   "outputs": [
    {
     "data": {
      "text/html": [
       "<div>\n",
       "<style scoped>\n",
       "    .dataframe tbody tr th:only-of-type {\n",
       "        vertical-align: middle;\n",
       "    }\n",
       "\n",
       "    .dataframe tbody tr th {\n",
       "        vertical-align: top;\n",
       "    }\n",
       "\n",
       "    .dataframe thead th {\n",
       "        text-align: right;\n",
       "    }\n",
       "</style>\n",
       "<table border=\"1\" class=\"dataframe\">\n",
       "  <thead>\n",
       "    <tr style=\"text-align: right;\">\n",
       "      <th></th>\n",
       "      <th>Open</th>\n",
       "      <th>High</th>\n",
       "      <th>Low</th>\n",
       "      <th>Close</th>\n",
       "      <th>Volume</th>\n",
       "      <th>Change</th>\n",
       "      <th>year</th>\n",
       "      <th>month</th>\n",
       "      <th>day</th>\n",
       "    </tr>\n",
       "    <tr>\n",
       "      <th>Date</th>\n",
       "      <th></th>\n",
       "      <th></th>\n",
       "      <th></th>\n",
       "      <th></th>\n",
       "      <th></th>\n",
       "      <th></th>\n",
       "      <th></th>\n",
       "      <th></th>\n",
       "      <th></th>\n",
       "    </tr>\n",
       "  </thead>\n",
       "  <tbody>\n",
       "    <tr>\n",
       "      <th>2000-08-22</th>\n",
       "      <td>4000</td>\n",
       "      <td>4000</td>\n",
       "      <td>4000</td>\n",
       "      <td>4000</td>\n",
       "      <td>885361</td>\n",
       "      <td>NaN</td>\n",
       "      <td>2000</td>\n",
       "      <td>8</td>\n",
       "      <td>22</td>\n",
       "    </tr>\n",
       "    <tr>\n",
       "      <th>2000-08-23</th>\n",
       "      <td>4200</td>\n",
       "      <td>4480</td>\n",
       "      <td>4200</td>\n",
       "      <td>4480</td>\n",
       "      <td>643906</td>\n",
       "      <td>0.120000</td>\n",
       "      <td>2000</td>\n",
       "      <td>8</td>\n",
       "      <td>23</td>\n",
       "    </tr>\n",
       "    <tr>\n",
       "      <th>2000-08-24</th>\n",
       "      <td>5010</td>\n",
       "      <td>5010</td>\n",
       "      <td>4480</td>\n",
       "      <td>4700</td>\n",
       "      <td>5496944</td>\n",
       "      <td>0.049107</td>\n",
       "      <td>2000</td>\n",
       "      <td>8</td>\n",
       "      <td>24</td>\n",
       "    </tr>\n",
       "    <tr>\n",
       "      <th>2000-08-25</th>\n",
       "      <td>4600</td>\n",
       "      <td>4600</td>\n",
       "      <td>4140</td>\n",
       "      <td>4140</td>\n",
       "      <td>2023817</td>\n",
       "      <td>-0.119149</td>\n",
       "      <td>2000</td>\n",
       "      <td>8</td>\n",
       "      <td>25</td>\n",
       "    </tr>\n",
       "    <tr>\n",
       "      <th>2000-08-28</th>\n",
       "      <td>4100</td>\n",
       "      <td>4180</td>\n",
       "      <td>3800</td>\n",
       "      <td>3900</td>\n",
       "      <td>2892382</td>\n",
       "      <td>-0.057971</td>\n",
       "      <td>2000</td>\n",
       "      <td>8</td>\n",
       "      <td>28</td>\n",
       "    </tr>\n",
       "    <tr>\n",
       "      <th>...</th>\n",
       "      <td>...</td>\n",
       "      <td>...</td>\n",
       "      <td>...</td>\n",
       "      <td>...</td>\n",
       "      <td>...</td>\n",
       "      <td>...</td>\n",
       "      <td>...</td>\n",
       "      <td>...</td>\n",
       "      <td>...</td>\n",
       "    </tr>\n",
       "    <tr>\n",
       "      <th>2023-11-01</th>\n",
       "      <td>22000</td>\n",
       "      <td>22100</td>\n",
       "      <td>21150</td>\n",
       "      <td>21550</td>\n",
       "      <td>965734</td>\n",
       "      <td>-0.004619</td>\n",
       "      <td>2023</td>\n",
       "      <td>11</td>\n",
       "      <td>1</td>\n",
       "    </tr>\n",
       "    <tr>\n",
       "      <th>2023-11-02</th>\n",
       "      <td>22800</td>\n",
       "      <td>24100</td>\n",
       "      <td>22500</td>\n",
       "      <td>23900</td>\n",
       "      <td>2358561</td>\n",
       "      <td>0.109049</td>\n",
       "      <td>2023</td>\n",
       "      <td>11</td>\n",
       "      <td>2</td>\n",
       "    </tr>\n",
       "    <tr>\n",
       "      <th>2023-11-03</th>\n",
       "      <td>24600</td>\n",
       "      <td>24950</td>\n",
       "      <td>23450</td>\n",
       "      <td>23700</td>\n",
       "      <td>1261462</td>\n",
       "      <td>-0.008368</td>\n",
       "      <td>2023</td>\n",
       "      <td>11</td>\n",
       "      <td>3</td>\n",
       "    </tr>\n",
       "    <tr>\n",
       "      <th>2023-11-06</th>\n",
       "      <td>24800</td>\n",
       "      <td>25800</td>\n",
       "      <td>24050</td>\n",
       "      <td>25800</td>\n",
       "      <td>2095337</td>\n",
       "      <td>0.088608</td>\n",
       "      <td>2023</td>\n",
       "      <td>11</td>\n",
       "      <td>6</td>\n",
       "    </tr>\n",
       "    <tr>\n",
       "      <th>2023-11-07</th>\n",
       "      <td>25950</td>\n",
       "      <td>28400</td>\n",
       "      <td>25050</td>\n",
       "      <td>26750</td>\n",
       "      <td>4122600</td>\n",
       "      <td>0.036822</td>\n",
       "      <td>2023</td>\n",
       "      <td>11</td>\n",
       "      <td>7</td>\n",
       "    </tr>\n",
       "  </tbody>\n",
       "</table>\n",
       "<p>5732 rows × 9 columns</p>\n",
       "</div>"
      ],
      "text/plain": [
       "             Open   High    Low  Close   Volume    Change  year  month  day\n",
       "Date                                                                       \n",
       "2000-08-22   4000   4000   4000   4000   885361       NaN  2000      8   22\n",
       "2000-08-23   4200   4480   4200   4480   643906  0.120000  2000      8   23\n",
       "2000-08-24   5010   5010   4480   4700  5496944  0.049107  2000      8   24\n",
       "2000-08-25   4600   4600   4140   4140  2023817 -0.119149  2000      8   25\n",
       "2000-08-28   4100   4180   3800   3900  2892382 -0.057971  2000      8   28\n",
       "...           ...    ...    ...    ...      ...       ...   ...    ...  ...\n",
       "2023-11-01  22000  22100  21150  21550   965734 -0.004619  2023     11    1\n",
       "2023-11-02  22800  24100  22500  23900  2358561  0.109049  2023     11    2\n",
       "2023-11-03  24600  24950  23450  23700  1261462 -0.008368  2023     11    3\n",
       "2023-11-06  24800  25800  24050  25800  2095337  0.088608  2023     11    6\n",
       "2023-11-07  25950  28400  25050  26750  4122600  0.036822  2023     11    7\n",
       "\n",
       "[5732 rows x 9 columns]"
      ]
     },
     "execution_count": 167,
     "metadata": {},
     "output_type": "execute_result"
    }
   ],
   "source": [
    "isupeta"
   ]
  },
  {
   "cell_type": "code",
   "execution_count": 168,
   "id": "d82a6e6f",
   "metadata": {},
   "outputs": [
    {
     "data": {
      "text/plain": [
       "Text(0.5, 1.0, 'Isu_peta stock')"
      ]
     },
     "execution_count": 168,
     "metadata": {},
     "output_type": "execute_result"
    },
    {
     "data": {
      "image/png": "[encoded data removed]",
      "text/plain": [
       "<Figure size 1600x900 with 1 Axes>"
      ]
     },
     "metadata": {},
     "output_type": "display_data"
    }
   ],
   "source": [
    "plt.figure(figsize=(16,9))\n",
    "sns.lineplot(y = isupeta['Close'], x=isupeta.index)\n",
    "plt.xlabel('time')\n",
    "plt.xlabel('price')\n",
    "plt.title('Isu_peta stock')"
   ]
  },
  {
   "cell_type": "code",
   "execution_count": 169,
   "id": "16f33f7e",
   "metadata": {},
   "outputs": [],
   "source": [
    "ts=[['2000', '2010'],\n",
    "    ['2010', '2015'],\n",
    "    ['2015', '2020'],\n",
    "    ['2020', '2023']]"
   ]
  },
  {
   "cell_type": "code",
   "execution_count": 170,
   "id": "92560f2e",
   "metadata": {},
   "outputs": [
    {
     "data": {
      "text/plain": [
       "DatetimeIndex(['2000-08-22', '2000-08-23', '2000-08-24', '2000-08-25',\n",
       "               '2000-08-28', '2000-08-29', '2000-08-30', '2000-08-31',\n",
       "               '2000-09-01', '2000-09-04',\n",
       "               ...\n",
       "               '2023-10-25', '2023-10-26', '2023-10-27', '2023-10-30',\n",
       "               '2023-10-31', '2023-11-01', '2023-11-02', '2023-11-03',\n",
       "               '2023-11-06', '2023-11-07'],\n",
       "              dtype='datetime64[ns]', name='Date', length=5732, freq=None)"
      ]
     },
     "execution_count": 170,
     "metadata": {},
     "output_type": "execute_result"
    }
   ],
   "source": [
    "isupeta.index"
   ]
  },
  {
   "cell_type": "code",
   "execution_count": 171,
   "id": "7d95837d",
   "metadata": {},
   "outputs": [
    {
     "data": {
      "image/png": "[encoded data removed]",
      "text/plain": [
       "<Figure size 1600x900 with 4 Axes>"
      ]
     },
     "metadata": {},
     "output_type": "display_data"
    }
   ],
   "source": [
    "fig, axes = plt.subplots(2,2)\n",
    "fig.set_size_inches(16,9)\n",
    "for i in range(4):\n",
    "    ax = axes[i//2, i%2]\n",
    "    df = isupeta.loc[(isupeta.index > ts[i][0]) & (isupeta.index < ts[i][1])]\n",
    "    sns.lineplot(y=df['Close'], x=df.index, ax = ax)\n",
    "    ax.set_title(f'{ts[i][0]} ~ {ts[i][1]}')\n",
    "    ax.set_xlabel('time')\n",
    "    ax.set_ylabel('price')\n",
    "plt.tight_layout()"
   ]
  },
  {
   "cell_type": "code",
   "execution_count": 172,
   "id": "90c3adb3",
   "metadata": {},
   "outputs": [],
   "source": [
    "from sklearn.preprocessing import MinMaxScaler"
   ]
  },
  {
   "cell_type": "code",
   "execution_count": 173,
   "id": "6c67613e",
   "metadata": {},
   "outputs": [],
   "source": [
    "scaler = MinMaxScaler()"
   ]
  },
  {
   "cell_type": "code",
   "execution_count": 174,
   "id": "208412ed",
   "metadata": {},
   "outputs": [],
   "source": [
    "cols = ['Open', 'High', 'Low', 'Close', 'Volume']"
   ]
  },
  {
   "cell_type": "code",
   "execution_count": 175,
   "id": "04bc6fb9",
   "metadata": {},
   "outputs": [
    {
     "data": {
      "text/plain": [
       "array([[0.09569378, 0.09237875, 0.10126582, 0.07230392, 0.01836078],\n",
       "       [0.10047847, 0.1034642 , 0.10632911, 0.08406863, 0.01325989],\n",
       "       [0.11985646, 0.11570439, 0.11341772, 0.08946078, 0.11578328],\n",
       "       ...,\n",
       "       [0.58851675, 0.57621247, 0.59367089, 0.55514706, 0.02630614],\n",
       "       [0.59330144, 0.59584296, 0.60886076, 0.60661765, 0.04392226],\n",
       "       [0.6208134 , 0.65588915, 0.63417722, 0.62990196, 0.08674943]])"
      ]
     },
     "execution_count": 175,
     "metadata": {},
     "output_type": "execute_result"
    }
   ],
   "source": [
    "scaled = scaler.fit_transform(isupeta[cols])\n",
    "scaled"
   ]
  },
  {
   "cell_type": "code",
   "execution_count": 176,
   "id": "3c408eee",
   "metadata": {},
   "outputs": [
    {
     "data": {
      "text/plain": [
       "' \\nfit() -> 훈련해라, 머신러닝이 데이터에 머신러닝 모델을 맞추는 것\\n1. 학습데이터 세트에서 변환을 위한 기반 설정을 하는 함수이다.\\n2. 데이터를 학습시키는 메서드라고 생각하면 된다\\n\\nTransform() -> fit을 기준으로 얻은 mean, variance에 맞춰서 변형하는 것!\\n1. fit을 통해 세운 기반으로 변형하는 함수\\n2. 실제로 학습시킨 것을 적용하는 메서드 \\n\\nfit_transform()\\n두개 합쳐 놓은 것\\n\\ntrain dataset에서만 fit_transform 혹은 fit, transform을 할까? test dataset은 검증을 위한 데이터 임\\n'"
      ]
     },
     "execution_count": 176,
     "metadata": {},
     "output_type": "execute_result"
    }
   ],
   "source": [
    "\"\"\" \n",
    "fit() -> 훈련해라, 머신러닝이 데이터에 머신러닝 모델을 맞추는 것\n",
    "1. 학습데이터 세트에서 변환을 위한 기반 설정을 하는 함수이다.\n",
    "2. 데이터를 학습시키는 메서드라고 생각하면 된다\n",
    "\n",
    "Transform() -> fit을 기준으로 얻은 mean, variance에 맞춰서 변형하는 것!\n",
    "1. fit을 통해 세운 기반으로 변형하는 함수\n",
    "2. 실제로 학습시킨 것을 적용하는 메서드 \n",
    "\n",
    "fit_transform()\n",
    "두개 합쳐 놓은 것\n",
    "\n",
    "train dataset에서만 fit_transform 혹은 fit, transform을 할까? test dataset은 검증을 위한 데이터 임\n",
    "\"\"\""
   ]
  },
  {
   "cell_type": "code",
   "execution_count": 177,
   "id": "d0082385",
   "metadata": {},
   "outputs": [
    {
     "data": {
      "text/html": [
       "<div>\n",
       "<style scoped>\n",
       "    .dataframe tbody tr th:only-of-type {\n",
       "        vertical-align: middle;\n",
       "    }\n",
       "\n",
       "    .dataframe tbody tr th {\n",
       "        vertical-align: top;\n",
       "    }\n",
       "\n",
       "    .dataframe thead th {\n",
       "        text-align: right;\n",
       "    }\n",
       "</style>\n",
       "<table border=\"1\" class=\"dataframe\">\n",
       "  <thead>\n",
       "    <tr style=\"text-align: right;\">\n",
       "      <th></th>\n",
       "      <th>Open</th>\n",
       "      <th>High</th>\n",
       "      <th>Low</th>\n",
       "      <th>Close</th>\n",
       "      <th>Volume</th>\n",
       "    </tr>\n",
       "  </thead>\n",
       "  <tbody>\n",
       "    <tr>\n",
       "      <th>0</th>\n",
       "      <td>0.095694</td>\n",
       "      <td>0.092379</td>\n",
       "      <td>0.101266</td>\n",
       "      <td>0.072304</td>\n",
       "      <td>0.018361</td>\n",
       "    </tr>\n",
       "    <tr>\n",
       "      <th>1</th>\n",
       "      <td>0.100478</td>\n",
       "      <td>0.103464</td>\n",
       "      <td>0.106329</td>\n",
       "      <td>0.084069</td>\n",
       "      <td>0.013260</td>\n",
       "    </tr>\n",
       "    <tr>\n",
       "      <th>2</th>\n",
       "      <td>0.119856</td>\n",
       "      <td>0.115704</td>\n",
       "      <td>0.113418</td>\n",
       "      <td>0.089461</td>\n",
       "      <td>0.115783</td>\n",
       "    </tr>\n",
       "    <tr>\n",
       "      <th>3</th>\n",
       "      <td>0.110048</td>\n",
       "      <td>0.106236</td>\n",
       "      <td>0.104810</td>\n",
       "      <td>0.075735</td>\n",
       "      <td>0.042411</td>\n",
       "    </tr>\n",
       "    <tr>\n",
       "      <th>4</th>\n",
       "      <td>0.098086</td>\n",
       "      <td>0.096536</td>\n",
       "      <td>0.096203</td>\n",
       "      <td>0.069853</td>\n",
       "      <td>0.060760</td>\n",
       "    </tr>\n",
       "    <tr>\n",
       "      <th>...</th>\n",
       "      <td>...</td>\n",
       "      <td>...</td>\n",
       "      <td>...</td>\n",
       "      <td>...</td>\n",
       "      <td>...</td>\n",
       "    </tr>\n",
       "    <tr>\n",
       "      <th>5727</th>\n",
       "      <td>0.526316</td>\n",
       "      <td>0.510393</td>\n",
       "      <td>0.535443</td>\n",
       "      <td>0.502451</td>\n",
       "      <td>0.020059</td>\n",
       "    </tr>\n",
       "    <tr>\n",
       "      <th>5728</th>\n",
       "      <td>0.545455</td>\n",
       "      <td>0.556582</td>\n",
       "      <td>0.569620</td>\n",
       "      <td>0.560049</td>\n",
       "      <td>0.049483</td>\n",
       "    </tr>\n",
       "    <tr>\n",
       "      <th>5729</th>\n",
       "      <td>0.588517</td>\n",
       "      <td>0.576212</td>\n",
       "      <td>0.593671</td>\n",
       "      <td>0.555147</td>\n",
       "      <td>0.026306</td>\n",
       "    </tr>\n",
       "    <tr>\n",
       "      <th>5730</th>\n",
       "      <td>0.593301</td>\n",
       "      <td>0.595843</td>\n",
       "      <td>0.608861</td>\n",
       "      <td>0.606618</td>\n",
       "      <td>0.043922</td>\n",
       "    </tr>\n",
       "    <tr>\n",
       "      <th>5731</th>\n",
       "      <td>0.620813</td>\n",
       "      <td>0.655889</td>\n",
       "      <td>0.634177</td>\n",
       "      <td>0.629902</td>\n",
       "      <td>0.086749</td>\n",
       "    </tr>\n",
       "  </tbody>\n",
       "</table>\n",
       "<p>5732 rows × 5 columns</p>\n",
       "</div>"
      ],
      "text/plain": [
       "          Open      High       Low     Close    Volume\n",
       "0     0.095694  0.092379  0.101266  0.072304  0.018361\n",
       "1     0.100478  0.103464  0.106329  0.084069  0.013260\n",
       "2     0.119856  0.115704  0.113418  0.089461  0.115783\n",
       "3     0.110048  0.106236  0.104810  0.075735  0.042411\n",
       "4     0.098086  0.096536  0.096203  0.069853  0.060760\n",
       "...        ...       ...       ...       ...       ...\n",
       "5727  0.526316  0.510393  0.535443  0.502451  0.020059\n",
       "5728  0.545455  0.556582  0.569620  0.560049  0.049483\n",
       "5729  0.588517  0.576212  0.593671  0.555147  0.026306\n",
       "5730  0.593301  0.595843  0.608861  0.606618  0.043922\n",
       "5731  0.620813  0.655889  0.634177  0.629902  0.086749\n",
       "\n",
       "[5732 rows x 5 columns]"
      ]
     },
     "execution_count": 177,
     "metadata": {},
     "output_type": "execute_result"
    }
   ],
   "source": [
    "df = pd.DataFrame(scaled, columns = cols)\n",
    "df"
   ]
  },
  {
   "cell_type": "code",
   "execution_count": 178,
   "id": "e2ed2fff",
   "metadata": {},
   "outputs": [],
   "source": [
    "from sklearn.model_selection import train_test_split"
   ]
  },
  {
   "cell_type": "code",
   "execution_count": 179,
   "id": "6636edaf",
   "metadata": {},
   "outputs": [
    {
     "name": "stderr",
     "output_type": "stream",
     "text": [
      "C:\\Users\\User\\AppData\\Local\\Temp\\ipykernel_12776\\263529286.py:1: FutureWarning: In a future version of pandas all arguments of DataFrame.drop except for the argument 'labels' will be keyword-only.\n",
      "  xtrain, xtest, ytrain, ytest = train_test_split(df.drop('Close', 1), df['Close'],\n"
     ]
    }
   ],
   "source": [
    "xtrain, xtest, ytrain, ytest = train_test_split(df.drop('Close', 1), df['Close'], \n",
    "                                                test_size = 0.2, random_state=0, shuffle=False)"
   ]
  },
  {
   "cell_type": "code",
   "execution_count": 180,
   "id": "38473792",
   "metadata": {},
   "outputs": [
    {
     "data": {
      "text/plain": [
       "(4585, 4)"
      ]
     },
     "execution_count": 180,
     "metadata": {},
     "output_type": "execute_result"
    }
   ],
   "source": [
    "xtrain.shape"
   ]
  },
  {
   "cell_type": "code",
   "execution_count": 181,
   "id": "173d355b",
   "metadata": {},
   "outputs": [
    {
     "data": {
      "text/plain": [
       "(1147, 4)"
      ]
     },
     "execution_count": 181,
     "metadata": {},
     "output_type": "execute_result"
    }
   ],
   "source": [
    "xtest.shape"
   ]
  },
  {
   "cell_type": "code",
   "execution_count": 182,
   "id": "a294821c",
   "metadata": {},
   "outputs": [
    {
     "data": {
      "text/plain": [
       "(4585,)"
      ]
     },
     "execution_count": 182,
     "metadata": {},
     "output_type": "execute_result"
    }
   ],
   "source": [
    "ytrain.shape"
   ]
  },
  {
   "cell_type": "code",
   "execution_count": 183,
   "id": "752b1ee5",
   "metadata": {},
   "outputs": [],
   "source": [
    "from tensorflow.keras.models import Sequential\n",
    "from tensorflow.keras.layers import SimpleRNN"
   ]
  },
  {
   "cell_type": "code",
   "execution_count": 184,
   "id": "6d3393cf",
   "metadata": {},
   "outputs": [],
   "source": [
    "model = Sequential()"
   ]
  },
  {
   "cell_type": "code",
   "execution_count": 185,
   "id": "8b337353",
   "metadata": {},
   "outputs": [
    {
     "name": "stdout",
     "output_type": "stream",
     "text": [
      "Model: \"sequential_4\"\n",
      "_________________________________________________________________\n",
      " Layer (type)                Output Shape              Param #   \n",
      "=================================================================\n",
      " simple_rnn_4 (SimpleRNN)    (None, 3)                 42        \n",
      "                                                                 \n",
      "=================================================================\n",
      "Total params: 42 (168.00 Byte)\n",
      "Trainable params: 42 (168.00 Byte)\n",
      "Non-trainable params: 0 (0.00 Byte)\n",
      "_________________________________________________________________\n"
     ]
    }
   ],
   "source": [
    "model.add(SimpleRNN(3, input_shape = (2,10)))\n",
    "model.summary()"
   ]
  },
  {
   "cell_type": "code",
   "execution_count": 186,
   "id": "56e86d4b",
   "metadata": {},
   "outputs": [],
   "source": [
    "import numpy as np"
   ]
  },
  {
   "cell_type": "code",
   "execution_count": 187,
   "id": "64900994",
   "metadata": {},
   "outputs": [],
   "source": [
    "timesteps = 10\n",
    "input_dim = 4\n",
    "hidden_units = 8\n",
    "\n",
    "inputs = np.random.random((timesteps, input_dim))"
   ]
  },
  {
   "cell_type": "code",
   "execution_count": 188,
   "id": "7d34b10d",
   "metadata": {},
   "outputs": [
    {
     "data": {
      "text/plain": [
       "array([[0.55605064, 0.62723983, 0.48301444, 0.80262842],\n",
       "       [0.73016539, 0.18301631, 0.28592135, 0.87677506],\n",
       "       [0.53699084, 0.08005799, 0.64438554, 0.83235471],\n",
       "       [0.98865921, 0.26503761, 0.51748152, 0.37980172],\n",
       "       [0.07299128, 0.23814291, 0.83642917, 0.78149432],\n",
       "       [0.17591157, 0.01703108, 0.57354139, 0.7327085 ],\n",
       "       [0.22557046, 0.79150279, 0.8630965 , 0.10495502],\n",
       "       [0.1980291 , 0.90855041, 0.13297   , 0.3582459 ],\n",
       "       [0.30674438, 0.27856298, 0.28469102, 0.95405917],\n",
       "       [0.66375314, 0.52527865, 0.25972571, 0.55529962]])"
      ]
     },
     "execution_count": 188,
     "metadata": {},
     "output_type": "execute_result"
    }
   ],
   "source": [
    "inputs"
   ]
  },
  {
   "cell_type": "code",
   "execution_count": 189,
   "id": "16b17f70",
   "metadata": {},
   "outputs": [
    {
     "data": {
      "text/plain": [
       "array([0., 0., 0., 0., 0., 0., 0., 0.])"
      ]
     },
     "execution_count": 189,
     "metadata": {},
     "output_type": "execute_result"
    }
   ],
   "source": [
    "# 초기 은닉 상태는 0(벡터)로 초기화\n",
    "hidden_state_t = np.zeros((hidden_units,))\n",
    "hidden_state_t"
   ]
  },
  {
   "cell_type": "code",
   "execution_count": 190,
   "id": "615cfa3f",
   "metadata": {},
   "outputs": [
    {
     "name": "stdout",
     "output_type": "stream",
     "text": [
      "(8, 4)\n",
      "(8, 8)\n",
      "(8,)\n"
     ]
    }
   ],
   "source": [
    "Wx = np.random.random((hidden_units, input_dim)) #8,4 크기의 2D 텐서 생성 입력에 대한 가중치\n",
    "Wh = np.random.random((hidden_units, hidden_units)) #8,8 크기의 2D 텐서 생성, 은닉 상태에 대한 가중치\n",
    "b = np.random.random((hidden_units,))\n",
    "\n",
    "print(np.shape(Wx))\n",
    "print(np.shape(Wh))\n",
    "print(np.shape(b))"
   ]
  },
  {
   "cell_type": "code",
   "execution_count": 191,
   "id": "de85e64b",
   "metadata": {},
   "outputs": [
    {
     "data": {
      "text/plain": [
       "array([[0.29414556, 0.88677393, 0.43083305, 0.11072007],\n",
       "       [0.73798465, 0.37374464, 0.78365478, 0.42359764],\n",
       "       [0.0215782 , 0.19620155, 0.13243809, 0.82303559],\n",
       "       [0.51719317, 0.68537513, 0.54532425, 0.32631112],\n",
       "       [0.34564274, 0.48971495, 0.12733335, 0.48385273],\n",
       "       [0.48822328, 0.59331805, 0.43394883, 0.26846689],\n",
       "       [0.8986809 , 0.8227219 , 0.47054238, 0.24667759],\n",
       "       [0.90796639, 0.24356311, 0.47741678, 0.62559796]])"
      ]
     },
     "execution_count": 191,
     "metadata": {},
     "output_type": "execute_result"
    }
   ],
   "source": [
    "Wx"
   ]
  },
  {
   "cell_type": "code",
   "execution_count": 192,
   "id": "00990c10",
   "metadata": {},
   "outputs": [
    {
     "data": {
      "text/plain": [
       "(8, 8)"
      ]
     },
     "execution_count": 192,
     "metadata": {},
     "output_type": "execute_result"
    }
   ],
   "source": [
    "Wh.shape"
   ]
  },
  {
   "cell_type": "code",
   "execution_count": 131,
   "id": "be6159a9",
   "metadata": {},
   "outputs": [],
   "source": [
    "def make_dataset(data, label, window_size = 20):\n",
    "    feature_list = []\n",
    "    label_list= []\n",
    "    for i in range(len(data) - window_size):\n",
    "        feature_list.append(np.array(data.iloc[i:i+window_size]))\n",
    "        label_list.append(np.array(data.iloc[i+window_size]))\n",
    "    return np.array(feature_list), np.array(label_list)"
   ]
  },
  {
   "cell_type": "code",
   "execution_count": 132,
   "id": "66ead78a",
   "metadata": {},
   "outputs": [
    {
     "ename": "NameError",
     "evalue": "name 'feature_list' is not defined",
     "output_type": "error",
     "traceback": [
      "\u001b[1;31m---------------------------------------------------------------------------\u001b[0m",
      "\u001b[1;31mNameError\u001b[0m                                 Traceback (most recent call last)",
      "Cell \u001b[1;32mIn[132], line 1\u001b[0m\n\u001b[1;32m----> 1\u001b[0m feature_list\n",
      "\u001b[1;31mNameError\u001b[0m: name 'feature_list' is not defined"
     ]
    }
   ],
   "source": [
    "feature_list"
   ]
  },
  {
   "cell_type": "code",
   "execution_count": 149,
   "id": "2e785f03",
   "metadata": {},
   "outputs": [
    {
     "data": {
      "text/html": [
       "<div>\n",
       "<style scoped>\n",
       "    .dataframe tbody tr th:only-of-type {\n",
       "        vertical-align: middle;\n",
       "    }\n",
       "\n",
       "    .dataframe tbody tr th {\n",
       "        vertical-align: top;\n",
       "    }\n",
       "\n",
       "    .dataframe thead th {\n",
       "        text-align: right;\n",
       "    }\n",
       "</style>\n",
       "<table border=\"1\" class=\"dataframe\">\n",
       "  <thead>\n",
       "    <tr style=\"text-align: right;\">\n",
       "      <th></th>\n",
       "      <th>Open</th>\n",
       "      <th>High</th>\n",
       "      <th>Low</th>\n",
       "      <th>Volume</th>\n",
       "    </tr>\n",
       "  </thead>\n",
       "  <tbody>\n",
       "    <tr>\n",
       "      <th>0</th>\n",
       "      <td>0.095694</td>\n",
       "      <td>0.092379</td>\n",
       "      <td>0.101266</td>\n",
       "      <td>0.018361</td>\n",
       "    </tr>\n",
       "    <tr>\n",
       "      <th>1</th>\n",
       "      <td>0.100478</td>\n",
       "      <td>0.103464</td>\n",
       "      <td>0.106329</td>\n",
       "      <td>0.013260</td>\n",
       "    </tr>\n",
       "    <tr>\n",
       "      <th>2</th>\n",
       "      <td>0.119856</td>\n",
       "      <td>0.115704</td>\n",
       "      <td>0.113418</td>\n",
       "      <td>0.115783</td>\n",
       "    </tr>\n",
       "    <tr>\n",
       "      <th>3</th>\n",
       "      <td>0.110048</td>\n",
       "      <td>0.106236</td>\n",
       "      <td>0.104810</td>\n",
       "      <td>0.042411</td>\n",
       "    </tr>\n",
       "    <tr>\n",
       "      <th>4</th>\n",
       "      <td>0.098086</td>\n",
       "      <td>0.096536</td>\n",
       "      <td>0.096203</td>\n",
       "      <td>0.060760</td>\n",
       "    </tr>\n",
       "    <tr>\n",
       "      <th>...</th>\n",
       "      <td>...</td>\n",
       "      <td>...</td>\n",
       "      <td>...</td>\n",
       "      <td>...</td>\n",
       "    </tr>\n",
       "    <tr>\n",
       "      <th>4580</th>\n",
       "      <td>0.106818</td>\n",
       "      <td>0.109492</td>\n",
       "      <td>0.112810</td>\n",
       "      <td>0.032155</td>\n",
       "    </tr>\n",
       "    <tr>\n",
       "      <th>4581</th>\n",
       "      <td>0.114282</td>\n",
       "      <td>0.110323</td>\n",
       "      <td>0.116861</td>\n",
       "      <td>0.019541</td>\n",
       "    </tr>\n",
       "    <tr>\n",
       "      <th>4582</th>\n",
       "      <td>0.112153</td>\n",
       "      <td>0.109076</td>\n",
       "      <td>0.116203</td>\n",
       "      <td>0.012562</td>\n",
       "    </tr>\n",
       "    <tr>\n",
       "      <th>4583</th>\n",
       "      <td>0.111722</td>\n",
       "      <td>0.109908</td>\n",
       "      <td>0.115519</td>\n",
       "      <td>0.018134</td>\n",
       "    </tr>\n",
       "    <tr>\n",
       "      <th>4584</th>\n",
       "      <td>0.111938</td>\n",
       "      <td>0.120185</td>\n",
       "      <td>0.116861</td>\n",
       "      <td>0.105177</td>\n",
       "    </tr>\n",
       "  </tbody>\n",
       "</table>\n",
       "<p>4585 rows × 4 columns</p>\n",
       "</div>"
      ],
      "text/plain": [
       "          Open      High       Low    Volume\n",
       "0     0.095694  0.092379  0.101266  0.018361\n",
       "1     0.100478  0.103464  0.106329  0.013260\n",
       "2     0.119856  0.115704  0.113418  0.115783\n",
       "3     0.110048  0.106236  0.104810  0.042411\n",
       "4     0.098086  0.096536  0.096203  0.060760\n",
       "...        ...       ...       ...       ...\n",
       "4580  0.106818  0.109492  0.112810  0.032155\n",
       "4581  0.114282  0.110323  0.116861  0.019541\n",
       "4582  0.112153  0.109076  0.116203  0.012562\n",
       "4583  0.111722  0.109908  0.115519  0.018134\n",
       "4584  0.111938  0.120185  0.116861  0.105177\n",
       "\n",
       "[4585 rows x 4 columns]"
      ]
     },
     "execution_count": 149,
     "metadata": {},
     "output_type": "execute_result"
    }
   ],
   "source": [
    "xtrain"
   ]
  },
  {
   "cell_type": "code",
   "execution_count": 150,
   "id": "3ee66977",
   "metadata": {},
   "outputs": [
    {
     "data": {
      "text/html": [
       "<div>\n",
       "<style scoped>\n",
       "    .dataframe tbody tr th:only-of-type {\n",
       "        vertical-align: middle;\n",
       "    }\n",
       "\n",
       "    .dataframe tbody tr th {\n",
       "        vertical-align: top;\n",
       "    }\n",
       "\n",
       "    .dataframe thead th {\n",
       "        text-align: right;\n",
       "    }\n",
       "</style>\n",
       "<table border=\"1\" class=\"dataframe\">\n",
       "  <thead>\n",
       "    <tr style=\"text-align: right;\">\n",
       "      <th></th>\n",
       "      <th>Open</th>\n",
       "      <th>High</th>\n",
       "      <th>Low</th>\n",
       "      <th>Volume</th>\n",
       "    </tr>\n",
       "  </thead>\n",
       "  <tbody>\n",
       "    <tr>\n",
       "      <th>4585</th>\n",
       "      <td>0.126603</td>\n",
       "      <td>0.122425</td>\n",
       "      <td>0.124304</td>\n",
       "      <td>0.061045</td>\n",
       "    </tr>\n",
       "    <tr>\n",
       "      <th>4586</th>\n",
       "      <td>0.118947</td>\n",
       "      <td>0.114827</td>\n",
       "      <td>0.119570</td>\n",
       "      <td>0.050174</td>\n",
       "    </tr>\n",
       "    <tr>\n",
       "      <th>4587</th>\n",
       "      <td>0.115981</td>\n",
       "      <td>0.112171</td>\n",
       "      <td>0.117089</td>\n",
       "      <td>0.031357</td>\n",
       "    </tr>\n",
       "    <tr>\n",
       "      <th>4588</th>\n",
       "      <td>0.113206</td>\n",
       "      <td>0.115242</td>\n",
       "      <td>0.119342</td>\n",
       "      <td>0.061813</td>\n",
       "    </tr>\n",
       "    <tr>\n",
       "      <th>4589</th>\n",
       "      <td>0.114474</td>\n",
       "      <td>0.114411</td>\n",
       "      <td>0.120937</td>\n",
       "      <td>0.023627</td>\n",
       "    </tr>\n",
       "    <tr>\n",
       "      <th>...</th>\n",
       "      <td>...</td>\n",
       "      <td>...</td>\n",
       "      <td>...</td>\n",
       "      <td>...</td>\n",
       "    </tr>\n",
       "    <tr>\n",
       "      <th>5727</th>\n",
       "      <td>0.526316</td>\n",
       "      <td>0.510393</td>\n",
       "      <td>0.535443</td>\n",
       "      <td>0.020059</td>\n",
       "    </tr>\n",
       "    <tr>\n",
       "      <th>5728</th>\n",
       "      <td>0.545455</td>\n",
       "      <td>0.556582</td>\n",
       "      <td>0.569620</td>\n",
       "      <td>0.049483</td>\n",
       "    </tr>\n",
       "    <tr>\n",
       "      <th>5729</th>\n",
       "      <td>0.588517</td>\n",
       "      <td>0.576212</td>\n",
       "      <td>0.593671</td>\n",
       "      <td>0.026306</td>\n",
       "    </tr>\n",
       "    <tr>\n",
       "      <th>5730</th>\n",
       "      <td>0.593301</td>\n",
       "      <td>0.595843</td>\n",
       "      <td>0.608861</td>\n",
       "      <td>0.043922</td>\n",
       "    </tr>\n",
       "    <tr>\n",
       "      <th>5731</th>\n",
       "      <td>0.620813</td>\n",
       "      <td>0.655889</td>\n",
       "      <td>0.634177</td>\n",
       "      <td>0.086749</td>\n",
       "    </tr>\n",
       "  </tbody>\n",
       "</table>\n",
       "<p>1147 rows × 4 columns</p>\n",
       "</div>"
      ],
      "text/plain": [
       "          Open      High       Low    Volume\n",
       "4585  0.126603  0.122425  0.124304  0.061045\n",
       "4586  0.118947  0.114827  0.119570  0.050174\n",
       "4587  0.115981  0.112171  0.117089  0.031357\n",
       "4588  0.113206  0.115242  0.119342  0.061813\n",
       "4589  0.114474  0.114411  0.120937  0.023627\n",
       "...        ...       ...       ...       ...\n",
       "5727  0.526316  0.510393  0.535443  0.020059\n",
       "5728  0.545455  0.556582  0.569620  0.049483\n",
       "5729  0.588517  0.576212  0.593671  0.026306\n",
       "5730  0.593301  0.595843  0.608861  0.043922\n",
       "5731  0.620813  0.655889  0.634177  0.086749\n",
       "\n",
       "[1147 rows x 4 columns]"
      ]
     },
     "execution_count": 150,
     "metadata": {},
     "output_type": "execute_result"
    }
   ],
   "source": [
    "xtest"
   ]
  },
  {
   "cell_type": "code",
   "execution_count": 137,
   "id": "a96e20fe",
   "metadata": {},
   "outputs": [
    {
     "data": {
      "text/plain": [
       "array([[0.07177033, 0.06928406, 0.07164557, 0.00457667],\n",
       "       [0.0645933 , 0.06581986, 0.06329114, 0.02426012],\n",
       "       [0.06004785, 0.06004619, 0.06202532, 0.01174071],\n",
       "       ...,\n",
       "       [0.11215311, 0.10907621, 0.11620253, 0.01256247],\n",
       "       [0.11172249, 0.10990762, 0.11551899, 0.01813418],\n",
       "       [0.1119378 , 0.12018476, 0.11686076, 0.10517687]])"
      ]
     },
     "execution_count": 137,
     "metadata": {},
     "output_type": "execute_result"
    }
   ],
   "source": [
    "ytrain"
   ]
  },
  {
   "cell_type": "code",
   "execution_count": 151,
   "id": "6eb8db92",
   "metadata": {},
   "outputs": [
    {
     "data": {
      "text/plain": [
       "4585    0.096152\n",
       "4586    0.092451\n",
       "4587    0.088946\n",
       "4588    0.093088\n",
       "4589    0.094191\n",
       "          ...   \n",
       "5727    0.502451\n",
       "5728    0.560049\n",
       "5729    0.555147\n",
       "5730    0.606618\n",
       "5731    0.629902\n",
       "Name: Close, Length: 1147, dtype: float64"
      ]
     },
     "execution_count": 151,
     "metadata": {},
     "output_type": "execute_result"
    }
   ],
   "source": [
    "ytest"
   ]
  },
  {
   "cell_type": "code",
   "execution_count": 152,
   "id": "49b34ac2",
   "metadata": {},
   "outputs": [],
   "source": [
    "xtrain, ytrain = make_dataset(xtrain, ytrain, 20)   #20은 window_size"
   ]
  },
  {
   "cell_type": "code",
   "execution_count": 153,
   "id": "04fdb31e",
   "metadata": {},
   "outputs": [
    {
     "data": {
      "text/plain": [
       "(4565, 20, 4)"
      ]
     },
     "execution_count": 153,
     "metadata": {},
     "output_type": "execute_result"
    }
   ],
   "source": [
    "xtrain.shape"
   ]
  },
  {
   "cell_type": "code",
   "execution_count": 193,
   "id": "c0b0192f",
   "metadata": {},
   "outputs": [
    {
     "data": {
      "text/plain": [
       "4585"
      ]
     },
     "execution_count": 193,
     "metadata": {},
     "output_type": "execute_result"
    }
   ],
   "source": [
    "len(xtrain)"
   ]
  },
  {
   "cell_type": "code",
   "execution_count": 154,
   "id": "ba1b9584",
   "metadata": {},
   "outputs": [
    {
     "data": {
      "text/plain": [
       "(4565, 4)"
      ]
     },
     "execution_count": 154,
     "metadata": {},
     "output_type": "execute_result"
    }
   ],
   "source": [
    "ytrain.shape"
   ]
  },
  {
   "cell_type": "code",
   "execution_count": 127,
   "id": "883cf120",
   "metadata": {},
   "outputs": [
    {
     "ename": "ValueError",
     "evalue": "cannot reshape array of size 18260 into shape (4565,1)",
     "output_type": "error",
     "traceback": [
      "\u001b[1;31m---------------------------------------------------------------------------\u001b[0m",
      "\u001b[1;31mValueError\u001b[0m                                Traceback (most recent call last)",
      "Cell \u001b[1;32mIn[127], line 1\u001b[0m\n\u001b[1;32m----> 1\u001b[0m ytrain \u001b[38;5;241m=\u001b[39m ytrain\u001b[38;5;241m.\u001b[39mreshape(ytrain\u001b[38;5;241m.\u001b[39mshape[\u001b[38;5;241m0\u001b[39m],\u001b[38;5;241m1\u001b[39m)\n",
      "\u001b[1;31mValueError\u001b[0m: cannot reshape array of size 18260 into shape (4565,1)"
     ]
    }
   ],
   "source": [
    "ytrain = ytrain.reshape(ytrain.shape[0],1)"
   ]
  },
  {
   "cell_type": "code",
   "execution_count": 129,
   "id": "c155d5af",
   "metadata": {},
   "outputs": [
    {
     "ename": "ValueError",
     "evalue": "cannot reshape array of size 18260 into shape (4565,1)",
     "output_type": "error",
     "traceback": [
      "\u001b[1;31m---------------------------------------------------------------------------\u001b[0m",
      "\u001b[1;31mValueError\u001b[0m                                Traceback (most recent call last)",
      "Cell \u001b[1;32mIn[129], line 1\u001b[0m\n\u001b[1;32m----> 1\u001b[0m ytrain \u001b[38;5;241m=\u001b[39m ytrain\u001b[38;5;241m.\u001b[39mreshape(ytrain\u001b[38;5;241m.\u001b[39mshape[\u001b[38;5;241m0\u001b[39m], \u001b[38;5;241m1\u001b[39m)\n",
      "\u001b[1;31mValueError\u001b[0m: cannot reshape array of size 18260 into shape (4565,1)"
     ]
    }
   ],
   "source": [
    "ytrain = ytrain.reshape(ytrain.shape[0], 1)"
   ]
  },
  {
   "cell_type": "code",
   "execution_count": null,
   "id": "7061e51c",
   "metadata": {},
   "outputs": [],
   "source": []
  }
 ],
 "metadata": {
  "kernelspec": {
   "display_name": "Python 3 (ipykernel)",
   "language": "python",
   "name": "python3"
  },
  "language_info": {
   "codemirror_mode": {
    "name": "ipython",
    "version": 3
   },
   "file_extension": ".py",
   "mimetype": "text/x-python",
   "name": "python",
   "nbconvert_exporter": "python",
   "pygments_lexer": "ipython3",
   "version": "3.11.4"
  }
 },
 "nbformat": 4,
 "nbformat_minor": 5
}
