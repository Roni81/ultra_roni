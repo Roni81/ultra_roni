{
 "cells": [
  {
   "cell_type": "code",
   "execution_count": 48,
   "id": "983707e0",
   "metadata": {},
   "outputs": [
    {
     "name": "stdout",
     "output_type": "stream",
     "text": [
      "갯수를 넣으시오(1~10)4\n",
      "원하는 합을 넣으시오(1~100)24\n",
      "[5, 6, 7, 8]\n"
     ]
    }
   ],
   "source": [
    "x = int(input(\"갯수를 넣으시오(1~10)\"))\n",
    "y = int(input(\"원하는 합을 넣으시오(1~100)\"))\n",
    "cen_num = y//x\n",
    "nums = []\n",
    "res = cen_num-(x-1)//2\n",
    "if y % x == 0:\n",
    " for i in range(x):\n",
    "    nums.append(res)\n",
    "    res+=1\n",
    " print(nums)\n",
    "else:\n",
    " print(\"숫자가 나올 수 없습니다\")"
   ]
  },
  {
   "cell_type": "code",
   "execution_count": null,
   "id": "d6d3577c",
   "metadata": {},
   "outputs": [],
   "source": []
  },
  {
   "cell_type": "code",
   "execution_count": null,
   "id": "c6bee4c1",
   "metadata": {},
   "outputs": [],
   "source": []
  },
  {
   "cell_type": "code",
   "execution_count": null,
   "id": "b8e7331d",
   "metadata": {},
   "outputs": [],
   "source": []
  },
  {
   "cell_type": "code",
   "execution_count": null,
   "id": "68ac861d",
   "metadata": {},
   "outputs": [],
   "source": []
  },
  {
   "cell_type": "code",
   "execution_count": null,
   "id": "de581216",
   "metadata": {},
   "outputs": [],
   "source": []
  },
  {
   "cell_type": "code",
   "execution_count": null,
   "id": "a208bdb9",
   "metadata": {},
   "outputs": [],
   "source": []
  }
 ],
 "metadata": {
  "kernelspec": {
   "display_name": "Python 3 (ipykernel)",
   "language": "python",
   "name": "python3"
  },
  "language_info": {
   "codemirror_mode": {
    "name": "ipython",
    "version": 3
   },
   "file_extension": ".py",
   "mimetype": "text/x-python",
   "name": "python",
   "nbconvert_exporter": "python",
   "pygments_lexer": "ipython3",
   "version": "3.11.4"
  }
 },
 "nbformat": 4,
 "nbformat_minor": 5
}
