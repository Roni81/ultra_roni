{
 "cells": [
  {
   "cell_type": "code",
   "execution_count": 1,
   "id": "2a6fad06",
   "metadata": {},
   "outputs": [],
   "source": [
    "import pandas as pd\n",
    "import numpy as np\n"
   ]
  },
  {
   "cell_type": "code",
   "execution_count": null,
   "id": "47e7535a",
   "metadata": {},
   "outputs": [],
   "source": []
  },
  {
   "cell_type": "code",
   "execution_count": 2,
   "id": "56867d77",
   "metadata": {},
   "outputs": [
    {
     "name": "stdout",
     "output_type": "stream",
     "text": [
      "           col1       col2       col3\n",
      "row1  70.244249  40.700052  10.690548\n",
      "row2  59.102763  59.526420  95.574261\n",
      "row3  45.825347  91.404831  82.511384\n"
     ]
    }
   ],
   "source": [
    "col = ['col1','col2','col3']\n",
    "row = ['row1','row2','row3']\n",
    "data = np.random.rand(3,3)*100\n",
    "df = pd.DataFrame(data=data, index=row, columns=col)\n",
    "print(df)"
   ]
  },
  {
   "cell_type": "code",
   "execution_count": 3,
   "id": "7e8b74da",
   "metadata": {},
   "outputs": [
    {
     "data": {
      "text/html": [
       "<div>\n",
       "<style scoped>\n",
       "    .dataframe tbody tr th:only-of-type {\n",
       "        vertical-align: middle;\n",
       "    }\n",
       "\n",
       "    .dataframe tbody tr th {\n",
       "        vertical-align: top;\n",
       "    }\n",
       "\n",
       "    .dataframe thead th {\n",
       "        text-align: right;\n",
       "    }\n",
       "</style>\n",
       "<table border=\"1\" class=\"dataframe\">\n",
       "  <thead>\n",
       "    <tr style=\"text-align: right;\">\n",
       "      <th></th>\n",
       "      <th>col1</th>\n",
       "      <th>col2</th>\n",
       "      <th>col3</th>\n",
       "    </tr>\n",
       "  </thead>\n",
       "  <tbody>\n",
       "    <tr>\n",
       "      <th>row1</th>\n",
       "      <td>70.0</td>\n",
       "      <td>41.0</td>\n",
       "      <td>11.0</td>\n",
       "    </tr>\n",
       "    <tr>\n",
       "      <th>row2</th>\n",
       "      <td>59.0</td>\n",
       "      <td>60.0</td>\n",
       "      <td>96.0</td>\n",
       "    </tr>\n",
       "    <tr>\n",
       "      <th>row3</th>\n",
       "      <td>46.0</td>\n",
       "      <td>91.0</td>\n",
       "      <td>83.0</td>\n",
       "    </tr>\n",
       "  </tbody>\n",
       "</table>\n",
       "</div>"
      ],
      "text/plain": [
       "      col1  col2  col3\n",
       "row1  70.0  41.0  11.0\n",
       "row2  59.0  60.0  96.0\n",
       "row3  46.0  91.0  83.0"
      ]
     },
     "execution_count": 3,
     "metadata": {},
     "output_type": "execute_result"
    }
   ],
   "source": [
    "df.round(0)"
   ]
  },
  {
   "cell_type": "code",
   "execution_count": 4,
   "id": "e92036ba",
   "metadata": {},
   "outputs": [
    {
     "data": {
      "text/html": [
       "<div>\n",
       "<style scoped>\n",
       "    .dataframe tbody tr th:only-of-type {\n",
       "        vertical-align: middle;\n",
       "    }\n",
       "\n",
       "    .dataframe tbody tr th {\n",
       "        vertical-align: top;\n",
       "    }\n",
       "\n",
       "    .dataframe thead th {\n",
       "        text-align: right;\n",
       "    }\n",
       "</style>\n",
       "<table border=\"1\" class=\"dataframe\">\n",
       "  <thead>\n",
       "    <tr style=\"text-align: right;\">\n",
       "      <th></th>\n",
       "      <th>col1</th>\n",
       "      <th>col2</th>\n",
       "      <th>col3</th>\n",
       "    </tr>\n",
       "  </thead>\n",
       "  <tbody>\n",
       "    <tr>\n",
       "      <th>row1</th>\n",
       "      <td>70.2</td>\n",
       "      <td>40.7</td>\n",
       "      <td>10.7</td>\n",
       "    </tr>\n",
       "    <tr>\n",
       "      <th>row2</th>\n",
       "      <td>59.1</td>\n",
       "      <td>59.5</td>\n",
       "      <td>95.6</td>\n",
       "    </tr>\n",
       "    <tr>\n",
       "      <th>row3</th>\n",
       "      <td>45.8</td>\n",
       "      <td>91.4</td>\n",
       "      <td>82.5</td>\n",
       "    </tr>\n",
       "  </tbody>\n",
       "</table>\n",
       "</div>"
      ],
      "text/plain": [
       "      col1  col2  col3\n",
       "row1  70.2  40.7  10.7\n",
       "row2  59.1  59.5  95.6\n",
       "row3  45.8  91.4  82.5"
      ]
     },
     "execution_count": 4,
     "metadata": {},
     "output_type": "execute_result"
    }
   ],
   "source": [
    "df.round(1)"
   ]
  },
  {
   "cell_type": "code",
   "execution_count": 5,
   "id": "c5b51f76",
   "metadata": {},
   "outputs": [
    {
     "name": "stdout",
     "output_type": "stream",
     "text": [
      "      col1  col2  col3\n",
      "row1     1   2.0     3\n",
      "row2     4   5.0     6\n",
      "row3     7   NaN     9\n"
     ]
    }
   ],
   "source": [
    "col = ['col1','col2','col3']\n",
    "row = ['row1','row2','row3']\n",
    "data = [[1,2,3],[4,5,6],[7,np.NaN,9]]\n",
    "df = pd.DataFrame(data=data,index=row,columns=col)\n",
    "print(df)"
   ]
  },
  {
   "cell_type": "code",
   "execution_count": 6,
   "id": "db667c50",
   "metadata": {},
   "outputs": [
    {
     "data": {
      "text/plain": [
       "col1    12.0\n",
       "col2     7.0\n",
       "col3    18.0\n",
       "dtype: float64"
      ]
     },
     "execution_count": 6,
     "metadata": {},
     "output_type": "execute_result"
    }
   ],
   "source": [
    "df.sum(axis=0)"
   ]
  },
  {
   "cell_type": "code",
   "execution_count": 7,
   "id": "88b5cfc6",
   "metadata": {},
   "outputs": [
    {
     "data": {
      "text/plain": [
       "row1     6.0\n",
       "row2    15.0\n",
       "row3    16.0\n",
       "dtype: float64"
      ]
     },
     "execution_count": 7,
     "metadata": {},
     "output_type": "execute_result"
    }
   ],
   "source": [
    "df.sum(axis=1)"
   ]
  },
  {
   "cell_type": "code",
   "execution_count": 11,
   "id": "7c6841e4",
   "metadata": {},
   "outputs": [
    {
     "data": {
      "text/plain": [
       "row1     6.0\n",
       "row2    15.0\n",
       "row3     NaN\n",
       "dtype: float64"
      ]
     },
     "execution_count": 11,
     "metadata": {},
     "output_type": "execute_result"
    }
   ],
   "source": [
    "df.sum(axis = 1, min_count = 3) #min_count: dataframe 내에서 계산에 필요한 숫자의 최소 갯수"
   ]
  },
  {
   "cell_type": "code",
   "execution_count": 13,
   "id": "2f42c8d3",
   "metadata": {},
   "outputs": [
    {
     "data": {
      "text/plain": [
       "col1     28.0\n",
       "col2     10.0\n",
       "col3    162.0\n",
       "dtype: float64"
      ]
     },
     "execution_count": 13,
     "metadata": {},
     "output_type": "execute_result"
    }
   ],
   "source": [
    "df.prod(axis =0, skipna = True)"
   ]
  },
  {
   "cell_type": "code",
   "execution_count": 14,
   "id": "a7a585dd",
   "metadata": {},
   "outputs": [
    {
     "data": {
      "text/plain": [
       "col1     28.0\n",
       "col2     10.0\n",
       "col3    162.0\n",
       "dtype: float64"
      ]
     },
     "execution_count": 14,
     "metadata": {},
     "output_type": "execute_result"
    }
   ],
   "source": [
    "df.apply(np.prod, axis= 0)"
   ]
  },
  {
   "cell_type": "code",
   "execution_count": 16,
   "id": "1ead50af",
   "metadata": {},
   "outputs": [
    {
     "data": {
      "text/plain": [
       "row1      6.0\n",
       "row2    120.0\n",
       "row3     63.0\n",
       "dtype: float64"
      ]
     },
     "execution_count": 16,
     "metadata": {},
     "output_type": "execute_result"
    }
   ],
   "source": [
    "df.apply(np.prod, axis = 1)"
   ]
  },
  {
   "cell_type": "code",
   "execution_count": 17,
   "id": "081eda83",
   "metadata": {},
   "outputs": [
    {
     "data": {
      "text/html": [
       "<div>\n",
       "<style scoped>\n",
       "    .dataframe tbody tr th:only-of-type {\n",
       "        vertical-align: middle;\n",
       "    }\n",
       "\n",
       "    .dataframe tbody tr th {\n",
       "        vertical-align: top;\n",
       "    }\n",
       "\n",
       "    .dataframe thead th {\n",
       "        text-align: right;\n",
       "    }\n",
       "</style>\n",
       "<table border=\"1\" class=\"dataframe\">\n",
       "  <thead>\n",
       "    <tr style=\"text-align: right;\">\n",
       "      <th></th>\n",
       "      <th>col1</th>\n",
       "      <th>col2</th>\n",
       "      <th>col3</th>\n",
       "    </tr>\n",
       "  </thead>\n",
       "  <tbody>\n",
       "    <tr>\n",
       "      <th>row1</th>\n",
       "      <td>1</td>\n",
       "      <td>1</td>\n",
       "      <td>1</td>\n",
       "    </tr>\n",
       "    <tr>\n",
       "      <th>row2</th>\n",
       "      <td>2</td>\n",
       "      <td>2</td>\n",
       "      <td>2</td>\n",
       "    </tr>\n",
       "    <tr>\n",
       "      <th>row3</th>\n",
       "      <td>3</td>\n",
       "      <td>3</td>\n",
       "      <td>3</td>\n",
       "    </tr>\n",
       "  </tbody>\n",
       "</table>\n",
       "</div>"
      ],
      "text/plain": [
       "      col1  col2  col3\n",
       "row1     1     1     1\n",
       "row2     2     2     2\n",
       "row3     3     3     3"
      ]
     },
     "execution_count": 17,
     "metadata": {},
     "output_type": "execute_result"
    }
   ],
   "source": [
    "df.apply(lambda x : [1,2,3])"
   ]
  },
  {
   "cell_type": "code",
   "execution_count": 18,
   "id": "a744b170",
   "metadata": {},
   "outputs": [
    {
     "data": {
      "text/html": [
       "<div>\n",
       "<style scoped>\n",
       "    .dataframe tbody tr th:only-of-type {\n",
       "        vertical-align: middle;\n",
       "    }\n",
       "\n",
       "    .dataframe tbody tr th {\n",
       "        vertical-align: top;\n",
       "    }\n",
       "\n",
       "    .dataframe thead th {\n",
       "        text-align: right;\n",
       "    }\n",
       "</style>\n",
       "<table border=\"1\" class=\"dataframe\">\n",
       "  <thead>\n",
       "    <tr style=\"text-align: right;\">\n",
       "      <th></th>\n",
       "      <th>col1</th>\n",
       "      <th>col2</th>\n",
       "      <th>col3</th>\n",
       "    </tr>\n",
       "  </thead>\n",
       "  <tbody>\n",
       "    <tr>\n",
       "      <th>row1</th>\n",
       "      <td>1</td>\n",
       "      <td>2.0</td>\n",
       "      <td>3</td>\n",
       "    </tr>\n",
       "    <tr>\n",
       "      <th>row2</th>\n",
       "      <td>4</td>\n",
       "      <td>5.0</td>\n",
       "      <td>6</td>\n",
       "    </tr>\n",
       "    <tr>\n",
       "      <th>row3</th>\n",
       "      <td>7</td>\n",
       "      <td>NaN</td>\n",
       "      <td>9</td>\n",
       "    </tr>\n",
       "  </tbody>\n",
       "</table>\n",
       "</div>"
      ],
      "text/plain": [
       "      col1  col2  col3\n",
       "row1     1   2.0     3\n",
       "row2     4   5.0     6\n",
       "row3     7   NaN     9"
      ]
     },
     "execution_count": 18,
     "metadata": {},
     "output_type": "execute_result"
    }
   ],
   "source": [
    "df"
   ]
  },
  {
   "cell_type": "code",
   "execution_count": 22,
   "id": "30a7f651",
   "metadata": {},
   "outputs": [
    {
     "data": {
      "text/plain": [
       "[0, 1, 4, 9, 16, 25, 36, 49, 64, 81]"
      ]
     },
     "execution_count": 22,
     "metadata": {},
     "output_type": "execute_result"
    }
   ],
   "source": [
    "list(map(lambda x: x ** 2, range(10)))"
   ]
  },
  {
   "cell_type": "code",
   "execution_count": 24,
   "id": "5b10048d",
   "metadata": {},
   "outputs": [
    {
     "data": {
      "text/plain": [
       "10"
      ]
     },
     "execution_count": 24,
     "metadata": {},
     "output_type": "execute_result"
    }
   ],
   "source": [
    "from functools import reduce\n",
    "reduce(lambda x,y : x+y, [0,1,2,3,4])"
   ]
  },
  {
   "cell_type": "code",
   "execution_count": 25,
   "id": "17bab7c6",
   "metadata": {},
   "outputs": [
    {
     "data": {
      "text/plain": [
       "'edcba'"
      ]
     },
     "execution_count": 25,
     "metadata": {},
     "output_type": "execute_result"
    }
   ],
   "source": [
    "reduce(lambda x, y : y + x, 'abcde')"
   ]
  },
  {
   "cell_type": "code",
   "execution_count": 27,
   "id": "0ac9b326",
   "metadata": {},
   "outputs": [
    {
     "data": {
      "text/plain": [
       "[1, 3, 5, 7, 9]"
      ]
     },
     "execution_count": 27,
     "metadata": {},
     "output_type": "execute_result"
    }
   ],
   "source": [
    "list(filter(lambda x: x % 2, range(10)))"
   ]
  },
  {
   "cell_type": "code",
   "execution_count": 30,
   "id": "75ab817e",
   "metadata": {},
   "outputs": [
    {
     "name": "stdout",
     "output_type": "stream",
     "text": [
      "20231001\n"
     ]
    },
    {
     "ename": "ValueError",
     "evalue": "not enough values to unpack (expected 3, got 1)",
     "output_type": "error",
     "traceback": [
      "\u001b[1;31m---------------------------------------------------------------------------\u001b[0m",
      "\u001b[1;31mValueError\u001b[0m                                Traceback (most recent call last)",
      "Cell \u001b[1;32mIn[30], line 4\u001b[0m\n\u001b[0;32m      2\u001b[0m     year, month, day \u001b[38;5;241m=\u001b[39m \u001b[38;5;28mtuple\u001b[39m(\u001b[38;5;28mmap\u001b[39m(\u001b[38;5;28mint\u001b[39m, \u001b[38;5;28minput\u001b[39m()\u001b[38;5;241m.\u001b[39msplit()))\n\u001b[0;32m      3\u001b[0m     \u001b[38;5;28;01mreturn\u001b[39;00m year, month, day\n\u001b[1;32m----> 4\u001b[0m read_date()\n",
      "Cell \u001b[1;32mIn[30], line 2\u001b[0m, in \u001b[0;36mread_date\u001b[1;34m()\u001b[0m\n\u001b[0;32m      1\u001b[0m \u001b[38;5;28;01mdef\u001b[39;00m \u001b[38;5;21mread_date\u001b[39m():\n\u001b[1;32m----> 2\u001b[0m     year, month, day \u001b[38;5;241m=\u001b[39m \u001b[38;5;28mtuple\u001b[39m(\u001b[38;5;28mmap\u001b[39m(\u001b[38;5;28mint\u001b[39m, \u001b[38;5;28minput\u001b[39m()\u001b[38;5;241m.\u001b[39msplit()))\n\u001b[0;32m      3\u001b[0m     \u001b[38;5;28;01mreturn\u001b[39;00m year, month, day\n",
      "\u001b[1;31mValueError\u001b[0m: not enough values to unpack (expected 3, got 1)"
     ]
    }
   ],
   "source": [
    "def read_date():\n",
    "    year, month, day = tuple(map(int, input().split()))\n",
    "    return year, month, day\n",
    "read_date()"
   ]
  },
  {
   "cell_type": "code",
   "execution_count": 31,
   "id": "833efc46",
   "metadata": {},
   "outputs": [],
   "source": [
    " d = {0: '영', 1: '일', 2: '이', 3: '삼', 4: '사', 5: '오', 6: '육', 7: '칠', 8: '팔', 9: '구'}\n",
    "    "
   ]
  },
  {
   "cell_type": "code",
   "execution_count": 32,
   "id": "77829363",
   "metadata": {},
   "outputs": [
    {
     "ename": "SyntaxError",
     "evalue": "invalid syntax (996183618.py, line 1)",
     "output_type": "error",
     "traceback": [
      "\u001b[1;36m  Cell \u001b[1;32mIn[32], line 1\u001b[1;36m\u001b[0m\n\u001b[1;33m    d.0\u001b[0m\n\u001b[1;37m     ^\u001b[0m\n\u001b[1;31mSyntaxError\u001b[0m\u001b[1;31m:\u001b[0m invalid syntax\n"
     ]
    }
   ],
   "source": [
    "d.0"
   ]
  },
  {
   "cell_type": "code",
   "execution_count": 33,
   "id": "7afe5016",
   "metadata": {},
   "outputs": [
    {
     "data": {
      "text/plain": [
       "'영'"
      ]
     },
     "execution_count": 33,
     "metadata": {},
     "output_type": "execute_result"
    }
   ],
   "source": [
    "d[0]"
   ]
  },
  {
   "cell_type": "code",
   "execution_count": 34,
   "id": "e0edf89b",
   "metadata": {},
   "outputs": [
    {
     "ename": "KeyError",
     "evalue": "'영'",
     "output_type": "error",
     "traceback": [
      "\u001b[1;31m---------------------------------------------------------------------------\u001b[0m",
      "\u001b[1;31mKeyError\u001b[0m                                  Traceback (most recent call last)",
      "Cell \u001b[1;32mIn[34], line 1\u001b[0m\n\u001b[1;32m----> 1\u001b[0m d[\u001b[38;5;124m\"\u001b[39m\u001b[38;5;124m영\u001b[39m\u001b[38;5;124m\"\u001b[39m]\n",
      "\u001b[1;31mKeyError\u001b[0m: '영'"
     ]
    }
   ],
   "source": [
    "d[\"영\"]"
   ]
  },
  {
   "cell_type": "code",
   "execution_count": 46,
   "id": "daf943e7",
   "metadata": {},
   "outputs": [
    {
     "name": "stdout",
     "output_type": "stream",
     "text": [
      "숫자를 입력하세요 0~10\n",
      "영\n"
     ]
    }
   ],
   "source": [
    "x = int(input(\"숫자를 입력하세요 0~1\"))\n",
    "a = ['영','일','이','삼','사','오','육','칠','팔','구']\n",
    "print(a[x])"
   ]
  },
  {
   "cell_type": "code",
   "execution_count": 47,
   "id": "94a5dd37",
   "metadata": {},
   "outputs": [
    {
     "ename": "TypeError",
     "evalue": "map() must have at least two arguments.",
     "output_type": "error",
     "traceback": [
      "\u001b[1;31m---------------------------------------------------------------------------\u001b[0m",
      "\u001b[1;31mTypeError\u001b[0m                                 Traceback (most recent call last)",
      "Cell \u001b[1;32mIn[47], line 1\u001b[0m\n\u001b[1;32m----> 1\u001b[0m \u001b[38;5;28mmap\u001b[39m(\u001b[38;5;28;01mlambda\u001b[39;00m x: [\u001b[38;5;124m'\u001b[39m\u001b[38;5;124m영\u001b[39m\u001b[38;5;124m'\u001b[39m,\u001b[38;5;124m'\u001b[39m\u001b[38;5;124m일\u001b[39m\u001b[38;5;124m'\u001b[39m,\u001b[38;5;124m'\u001b[39m\u001b[38;5;124m이\u001b[39m\u001b[38;5;124m'\u001b[39m,\u001b[38;5;124m'\u001b[39m\u001b[38;5;124m삼\u001b[39m\u001b[38;5;124m'\u001b[39m,\u001b[38;5;124m'\u001b[39m\u001b[38;5;124m사\u001b[39m\u001b[38;5;124m'\u001b[39m,\u001b[38;5;124m'\u001b[39m\u001b[38;5;124m오\u001b[39m\u001b[38;5;124m'\u001b[39m,\u001b[38;5;124m'\u001b[39m\u001b[38;5;124m육\u001b[39m\u001b[38;5;124m'\u001b[39m,\u001b[38;5;124m'\u001b[39m\u001b[38;5;124m칠\u001b[39m\u001b[38;5;124m'\u001b[39m,\u001b[38;5;124m'\u001b[39m\u001b[38;5;124m팔\u001b[39m\u001b[38;5;124m'\u001b[39m,\u001b[38;5;124m'\u001b[39m\u001b[38;5;124m구\u001b[39m\u001b[38;5;124m'\u001b[39m][x])(\u001b[38;5;241m0\u001b[39m)\n",
      "\u001b[1;31mTypeError\u001b[0m: map() must have at least two arguments."
     ]
    }
   ],
   "source": [
    "map(lambda x: ['영','일','이','삼','사','오','육','칠','팔','구'][x])(0)"
   ]
  },
  {
   "cell_type": "code",
   "execution_count": 50,
   "id": "eb81f389",
   "metadata": {},
   "outputs": [
    {
     "name": "stdout",
     "output_type": "stream",
     "text": [
      "r\n",
      "t\n"
     ]
    }
   ],
   "source": [
    "print(f\"r\\nt\")"
   ]
  },
  {
   "cell_type": "code",
   "execution_count": 51,
   "id": "c9790862",
   "metadata": {},
   "outputs": [],
   "source": [
    "idiom = {\n",
    "    '江湖之樂(강호지락)': '자연을 벗 삼아 누리는 즐거움',\n",
    "    '欲速不達(욕속부달)': '빨리 하고자 하면 이루지 못함',\n",
    "    '積小成大(적소성대)': '작은 것을 쌓아 큰 것을 이룸',\n",
    "    '勤儉節約(근검절약)': '부지런하고 알뜰하게 재물을 아낌',\n",
    "    '經世濟民(경세제민)': '세상을 다스리고 백성을 구제함',\n",
    "    '塞翁之馬(새옹지마)': '인생의 길흉화복은 변화가 많아서 예측하기가 어려움',\n",
    "    '好事多魔(호사다마)': '좋은 일에는 흔히 방해되는 일이 많음',\n",
    "    '桑田碧海(상전벽해)': '세상일의 변천이 심함',\n",
    "    '自業自得(자업자득)': '자기가 저지른 일의 결과를 자기가 받음',\n",
    "    '因果應報(인과응보)': '원인과 결과가 상응하여 보답한다',\n",
    "    '愚公移山(우공이산)': '어떤 일이든 끊임없이 노력하면 반드시 이루어짐',\n",
    "}"
   ]
  },
  {
   "cell_type": "code",
   "execution_count": 54,
   "id": "daf0b0ab",
   "metadata": {},
   "outputs": [
    {
     "ename": "TypeError",
     "evalue": "dict.items() takes no arguments (1 given)",
     "output_type": "error",
     "traceback": [
      "\u001b[1;31m---------------------------------------------------------------------------\u001b[0m",
      "\u001b[1;31mTypeError\u001b[0m                                 Traceback (most recent call last)",
      "Cell \u001b[1;32mIn[54], line 1\u001b[0m\n\u001b[1;32m----> 1\u001b[0m idiom\u001b[38;5;241m.\u001b[39mitems(\u001b[38;5;124m'\u001b[39m\u001b[38;5;124m江湖之樂(강호지락)\u001b[39m\u001b[38;5;124m'\u001b[39m,)\n",
      "\u001b[1;31mTypeError\u001b[0m: dict.items() takes no arguments (1 given)"
     ]
    }
   ],
   "source": [
    "idiom.items('江湖之樂(강호지락)',)"
   ]
  },
  {
   "cell_type": "code",
   "execution_count": null,
   "id": "ce132e04",
   "metadata": {},
   "outputs": [],
   "source": []
  }
 ],
 "metadata": {
  "kernelspec": {
   "display_name": "Python 3 (ipykernel)",
   "language": "python",
   "name": "python3"
  },
  "language_info": {
   "codemirror_mode": {
    "name": "ipython",
    "version": 3
   },
   "file_extension": ".py",
   "mimetype": "text/x-python",
   "name": "python",
   "nbconvert_exporter": "python",
   "pygments_lexer": "ipython3",
   "version": "3.11.4"
  }
 },
 "nbformat": 4,
 "nbformat_minor": 5
}
