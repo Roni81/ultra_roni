{
 "cells": [
  {
   "cell_type": "code",
   "execution_count": 5,
   "id": "4b309441",
   "metadata": {},
   "outputs": [],
   "source": [
    "import numpy as np\n",
    "import pandas as pd"
   ]
  },
  {
   "cell_type": "code",
   "execution_count": 9,
   "id": "4b3e9d24",
   "metadata": {},
   "outputs": [],
   "source": [
    "data = pd.DataFrame(np.arange(12).reshape((3, 4)),\n",
    "                    index=[\"Ohio\", \"Colorado\", \"New York\"],\n",
    "                    columns=[\"one\", \"two\", \"three\", \"four\"])"
   ]
  },
  {
   "cell_type": "code",
   "execution_count": 10,
   "id": "95509e84",
   "metadata": {},
   "outputs": [
    {
     "data": {
      "text/plain": [
       "0    1.2\n",
       "1   -3.5\n",
       "2    NaN\n",
       "3    0.0\n",
       "dtype: float64"
      ]
     },
     "execution_count": 10,
     "metadata": {},
     "output_type": "execute_result"
    }
   ],
   "source": [
    "float_data = pd.Series([1.2, -3.5, np.nan, 0])\n",
    "float_data"
   ]
  },
  {
   "cell_type": "code",
   "execution_count": 11,
   "id": "67412cda",
   "metadata": {
    "scrolled": true
   },
   "outputs": [
    {
     "name": "stdout",
     "output_type": "stream",
     "text": [
      "OHIO\n",
      "COLO\n",
      "NEW \n"
     ]
    }
   ],
   "source": [
    "for i in data.index:\n",
    "    j = i.upper()\n",
    "    print(j[:4])"
   ]
  },
  {
   "cell_type": "code",
   "execution_count": 12,
   "id": "56f1dabd",
   "metadata": {},
   "outputs": [
    {
     "name": "stdout",
     "output_type": "stream",
     "text": [
      "OHIO\n",
      "COLO\n",
      "NEW \n"
     ]
    }
   ],
   "source": [
    "for i in range(len(data.index)):\n",
    "    print((data.index[i][:4]).upper())"
   ]
  },
  {
   "cell_type": "code",
   "execution_count": 13,
   "id": "93b5ed7a",
   "metadata": {},
   "outputs": [
    {
     "data": {
      "text/plain": [
       "Index(['OHI', 'COL', 'NEW'], dtype='object')"
      ]
     },
     "execution_count": 13,
     "metadata": {},
     "output_type": "execute_result"
    }
   ],
   "source": [
    "data.index.map(lambda x: x.upper()[:3])"
   ]
  },
  {
   "cell_type": "code",
   "execution_count": 14,
   "id": "cabb2f16",
   "metadata": {},
   "outputs": [
    {
     "data": {
      "text/plain": [
       "0    OHIO\n",
       "1    COLO\n",
       "2    NEW \n",
       "dtype: object"
      ]
     },
     "execution_count": 14,
     "metadata": {},
     "output_type": "execute_result"
    }
   ],
   "source": [
    "data_index = pd.Series(data.index)\n",
    "data_index.apply(lambda x: x[0:4].upper())"
   ]
  },
  {
   "cell_type": "code",
   "execution_count": 15,
   "id": "67ca7ec6",
   "metadata": {},
   "outputs": [
    {
     "data": {
      "text/plain": [
       "['OHIO', 'COLO', 'NEW ']"
      ]
     },
     "execution_count": 15,
     "metadata": {},
     "output_type": "execute_result"
    }
   ],
   "source": [
    "upper_word = [word[:4].upper() for word in data.index]\n",
    "upper_word"
   ]
  },
  {
   "cell_type": "code",
   "execution_count": 21,
   "id": "1efb5017",
   "metadata": {},
   "outputs": [
    {
     "name": "stdout",
     "output_type": "stream",
     "text": [
      "OHIO\n",
      "COLO\n",
      "NEW \n"
     ]
    }
   ],
   "source": [
    "for i in range(len(data.index)):\n",
    "    print((data.index[i][0:4]).upper())"
   ]
  },
  {
   "cell_type": "code",
   "execution_count": 19,
   "id": "21497547",
   "metadata": {},
   "outputs": [
    {
     "data": {
      "text/plain": [
       "3"
      ]
     },
     "execution_count": 19,
     "metadata": {},
     "output_type": "execute_result"
    }
   ],
   "source": [
    "len(data.index)"
   ]
  },
  {
   "cell_type": "code",
   "execution_count": 22,
   "id": "adaef25f",
   "metadata": {},
   "outputs": [],
   "source": []
  },
  {
   "cell_type": "code",
   "execution_count": 25,
   "id": "862fb70b",
   "metadata": {},
   "outputs": [
    {
     "data": {
      "text/plain": [
       "Index(['OHIO', 'COLO', 'NEW '], dtype='object')"
      ]
     },
     "execution_count": 25,
     "metadata": {},
     "output_type": "execute_result"
    }
   ],
   "source": [
    "data.index.map(lambda x:x.upper()[0:4])"
   ]
  },
  {
   "cell_type": "code",
   "execution_count": null,
   "id": "446e73a1",
   "metadata": {},
   "outputs": [],
   "source": []
  }
 ],
 "metadata": {
  "kernelspec": {
   "display_name": "Python 3 (ipykernel)",
   "language": "python",
   "name": "python3"
  },
  "language_info": {
   "codemirror_mode": {
    "name": "ipython",
    "version": 3
   },
   "file_extension": ".py",
   "mimetype": "text/x-python",
   "name": "python",
   "nbconvert_exporter": "python",
   "pygments_lexer": "ipython3",
   "version": "3.11.4"
  }
 },
 "nbformat": 4,
 "nbformat_minor": 5
}
